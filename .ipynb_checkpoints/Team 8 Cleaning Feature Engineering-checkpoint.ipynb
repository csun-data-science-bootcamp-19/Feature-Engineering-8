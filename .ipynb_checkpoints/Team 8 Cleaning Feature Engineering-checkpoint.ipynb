{
 "cells": [
  {
   "cell_type": "markdown",
   "metadata": {},
   "source": [
    "# Cleaning"
   ]
  },
  {
   "cell_type": "markdown",
   "metadata": {},
   "source": [
    "#### NA's (or NaNs) as value\n",
    "1. **Alley:** Type of alley access to property\n",
    "2. **BsmtQual:** Evaluates the height of the basement\n",
    "3. **BsmtCond:** Evaluates the general condition of the basement\n",
    "4. **BsmtExposure:** Refers to walkout or garden level walls\n",
    "5. **BsmtFinType1:** Rating of basement finished area\n",
    "6. **BsmtFinType2:** Rating of basement finished area (if multiple types)*\n",
    "7. **FireplaceQu:** Fireplace quality\n",
    "8. **GarageType:** Garage location\n",
    "9. **GarageFinish:** Interior finish of the garage\n",
    "10. **GarageQual:** Garage quality\n",
    "11. **GarageCond:** Garage condition\n",
    "12. **PoolQC:** Pool quality (Biggest of the above)\n",
    "13. **Fence:** Fence quality\n",
    "14. **MiscFeature:** Miscellaneous feature not covered in other categories\n",
    "\n",
    "##### The two below are listed as None in description, but NA in dataset\n",
    "* MasVnrArea: Masonry veneer type\n",
    "* MasVnrType: Masonry veneer area in square feet\n",
    "\n",
    "##### Others\n",
    "* LotFrontage: Maybe set to NA if there is no street connected to property?\n",
    "* GarageYrBlt: Set to NA if the above Garage attributes are set as NA\n",
    "\n",
    "* Electrical: Electrical system. There is only one property with a missing data in Electrical. At row 1381\n"
   ]
  },
  {
   "cell_type": "code",
   "execution_count": 1,
   "metadata": {},
   "outputs": [],
   "source": [
    "import pandas as pd\n",
    "import numpy as np\n",
    "import matplotlib.pyplot as plt\n",
    "import copy\n",
    "%matplotlib inline"
   ]
  },
  {
   "cell_type": "code",
   "execution_count": null,
   "metadata": {},
   "outputs": [],
   "source": []
  },
  {
   "cell_type": "code",
   "execution_count": 2,
   "metadata": {},
   "outputs": [
    {
     "name": "stdout",
     "output_type": "stream",
     "text": [
      "(1460, 81) (1459, 80) total[0] = 2919\n"
     ]
    }
   ],
   "source": [
    "train = pd.read_csv('train.csv')\n",
    "test = pd.read_csv('test.csv')\n",
    "print(train.shape, test.shape, \"total[0] =\",test.shape[0]+train.shape[0])"
   ]
  },
  {
   "cell_type": "code",
   "execution_count": 3,
   "metadata": {},
   "outputs": [
    {
     "data": {
      "text/plain": [
       "1460"
      ]
     },
     "execution_count": 3,
     "metadata": {},
     "output_type": "execute_result"
    }
   ],
   "source": [
    "border = train.shape[0]\n",
    "border"
   ]
  },
  {
   "cell_type": "code",
   "execution_count": 4,
   "metadata": {},
   "outputs": [
    {
     "data": {
      "text/plain": [
       "(2919, 81)"
      ]
     },
     "execution_count": 4,
     "metadata": {},
     "output_type": "execute_result"
    }
   ],
   "source": [
    "DFc = pd.concat([train, test],ignore_index=True, sort=False)\n",
    "DFc.shape"
   ]
  },
  {
   "cell_type": "code",
   "execution_count": 5,
   "metadata": {},
   "outputs": [
    {
     "data": {
      "text/html": [
       "<div>\n",
       "<style scoped>\n",
       "    .dataframe tbody tr th:only-of-type {\n",
       "        vertical-align: middle;\n",
       "    }\n",
       "\n",
       "    .dataframe tbody tr th {\n",
       "        vertical-align: top;\n",
       "    }\n",
       "\n",
       "    .dataframe thead th {\n",
       "        text-align: right;\n",
       "    }\n",
       "</style>\n",
       "<table border=\"1\" class=\"dataframe\">\n",
       "  <thead>\n",
       "    <tr style=\"text-align: right;\">\n",
       "      <th></th>\n",
       "      <th>Id</th>\n",
       "      <th>MSSubClass</th>\n",
       "      <th>MSZoning</th>\n",
       "      <th>LotFrontage</th>\n",
       "      <th>LotArea</th>\n",
       "      <th>Street</th>\n",
       "      <th>Alley</th>\n",
       "      <th>LotShape</th>\n",
       "      <th>LandContour</th>\n",
       "      <th>Utilities</th>\n",
       "      <th>...</th>\n",
       "      <th>PoolArea</th>\n",
       "      <th>PoolQC</th>\n",
       "      <th>Fence</th>\n",
       "      <th>MiscFeature</th>\n",
       "      <th>MiscVal</th>\n",
       "      <th>MoSold</th>\n",
       "      <th>YrSold</th>\n",
       "      <th>SaleType</th>\n",
       "      <th>SaleCondition</th>\n",
       "      <th>SalePrice</th>\n",
       "    </tr>\n",
       "  </thead>\n",
       "  <tbody>\n",
       "    <tr>\n",
       "      <th>1458</th>\n",
       "      <td>1459</td>\n",
       "      <td>20</td>\n",
       "      <td>RL</td>\n",
       "      <td>68.0</td>\n",
       "      <td>9717</td>\n",
       "      <td>Pave</td>\n",
       "      <td>NaN</td>\n",
       "      <td>Reg</td>\n",
       "      <td>Lvl</td>\n",
       "      <td>AllPub</td>\n",
       "      <td>...</td>\n",
       "      <td>0</td>\n",
       "      <td>NaN</td>\n",
       "      <td>NaN</td>\n",
       "      <td>NaN</td>\n",
       "      <td>0</td>\n",
       "      <td>4</td>\n",
       "      <td>2010</td>\n",
       "      <td>WD</td>\n",
       "      <td>Normal</td>\n",
       "      <td>142125.0</td>\n",
       "    </tr>\n",
       "    <tr>\n",
       "      <th>1459</th>\n",
       "      <td>1460</td>\n",
       "      <td>20</td>\n",
       "      <td>RL</td>\n",
       "      <td>75.0</td>\n",
       "      <td>9937</td>\n",
       "      <td>Pave</td>\n",
       "      <td>NaN</td>\n",
       "      <td>Reg</td>\n",
       "      <td>Lvl</td>\n",
       "      <td>AllPub</td>\n",
       "      <td>...</td>\n",
       "      <td>0</td>\n",
       "      <td>NaN</td>\n",
       "      <td>NaN</td>\n",
       "      <td>NaN</td>\n",
       "      <td>0</td>\n",
       "      <td>6</td>\n",
       "      <td>2008</td>\n",
       "      <td>WD</td>\n",
       "      <td>Normal</td>\n",
       "      <td>147500.0</td>\n",
       "    </tr>\n",
       "    <tr>\n",
       "      <th>1460</th>\n",
       "      <td>1461</td>\n",
       "      <td>20</td>\n",
       "      <td>RH</td>\n",
       "      <td>80.0</td>\n",
       "      <td>11622</td>\n",
       "      <td>Pave</td>\n",
       "      <td>NaN</td>\n",
       "      <td>Reg</td>\n",
       "      <td>Lvl</td>\n",
       "      <td>AllPub</td>\n",
       "      <td>...</td>\n",
       "      <td>0</td>\n",
       "      <td>NaN</td>\n",
       "      <td>MnPrv</td>\n",
       "      <td>NaN</td>\n",
       "      <td>0</td>\n",
       "      <td>6</td>\n",
       "      <td>2010</td>\n",
       "      <td>WD</td>\n",
       "      <td>Normal</td>\n",
       "      <td>NaN</td>\n",
       "    </tr>\n",
       "    <tr>\n",
       "      <th>1461</th>\n",
       "      <td>1462</td>\n",
       "      <td>20</td>\n",
       "      <td>RL</td>\n",
       "      <td>81.0</td>\n",
       "      <td>14267</td>\n",
       "      <td>Pave</td>\n",
       "      <td>NaN</td>\n",
       "      <td>IR1</td>\n",
       "      <td>Lvl</td>\n",
       "      <td>AllPub</td>\n",
       "      <td>...</td>\n",
       "      <td>0</td>\n",
       "      <td>NaN</td>\n",
       "      <td>NaN</td>\n",
       "      <td>Gar2</td>\n",
       "      <td>12500</td>\n",
       "      <td>6</td>\n",
       "      <td>2010</td>\n",
       "      <td>WD</td>\n",
       "      <td>Normal</td>\n",
       "      <td>NaN</td>\n",
       "    </tr>\n",
       "  </tbody>\n",
       "</table>\n",
       "<p>4 rows × 81 columns</p>\n",
       "</div>"
      ],
      "text/plain": [
       "        Id  MSSubClass MSZoning  LotFrontage  LotArea Street Alley LotShape  \\\n",
       "1458  1459          20       RL         68.0     9717   Pave   NaN      Reg   \n",
       "1459  1460          20       RL         75.0     9937   Pave   NaN      Reg   \n",
       "1460  1461          20       RH         80.0    11622   Pave   NaN      Reg   \n",
       "1461  1462          20       RL         81.0    14267   Pave   NaN      IR1   \n",
       "\n",
       "     LandContour Utilities  ... PoolArea PoolQC  Fence MiscFeature MiscVal  \\\n",
       "1458         Lvl    AllPub  ...        0    NaN    NaN         NaN       0   \n",
       "1459         Lvl    AllPub  ...        0    NaN    NaN         NaN       0   \n",
       "1460         Lvl    AllPub  ...        0    NaN  MnPrv         NaN       0   \n",
       "1461         Lvl    AllPub  ...        0    NaN    NaN        Gar2   12500   \n",
       "\n",
       "     MoSold YrSold  SaleType  SaleCondition  SalePrice  \n",
       "1458      4   2010        WD         Normal   142125.0  \n",
       "1459      6   2008        WD         Normal   147500.0  \n",
       "1460      6   2010        WD         Normal        NaN  \n",
       "1461      6   2010        WD         Normal        NaN  \n",
       "\n",
       "[4 rows x 81 columns]"
      ]
     },
     "execution_count": 5,
     "metadata": {},
     "output_type": "execute_result"
    }
   ],
   "source": [
    "DFc.iloc[border-2:border+2, :]"
   ]
  },
  {
   "cell_type": "code",
   "execution_count": 6,
   "metadata": {},
   "outputs": [],
   "source": [
    "DFc = DFc.drop(columns=['LotShape', 'GarageYrBlt'])"
   ]
  },
  {
   "cell_type": "code",
   "execution_count": 7,
   "metadata": {},
   "outputs": [],
   "source": [
    "def summary_missing_data(data):\n",
    "    total = data.isnull().sum().sort_values(ascending=False)\n",
    "    percent = (data.isnull().sum()/data.isnull().count() * 100).sort_values(ascending=False)\n",
    "    missing_data = pd.concat([total, percent], axis=1, keys=['Total', 'Percent'])\n",
    "    return missing_data"
   ]
  },
  {
   "cell_type": "code",
   "execution_count": 8,
   "metadata": {
    "scrolled": true
   },
   "outputs": [
    {
     "name": "stdout",
     "output_type": "stream",
     "text": [
      "               Total    Percent\n",
      "PoolQC          2909  99.657417\n",
      "MiscFeature     2814  96.402878\n",
      "Alley           2721  93.216855\n",
      "Fence           2348  80.438506\n",
      "SalePrice       1459  49.982871\n",
      "FireplaceQu     1420  48.646797\n",
      "LotFrontage      486  16.649538\n",
      "GarageQual       159   5.447071\n",
      "GarageFinish     159   5.447071\n",
      "GarageCond       159   5.447071\n",
      "GarageType       157   5.378554\n",
      "BsmtCond          82   2.809181\n",
      "BsmtExposure      82   2.809181\n",
      "BsmtQual          81   2.774923\n",
      "BsmtFinType2      80   2.740665\n",
      "BsmtFinType1      79   2.706406\n",
      "MasVnrType        24   0.822199\n",
      "MasVnrArea        23   0.787941\n",
      "MSZoning           4   0.137033\n",
      "Utilities          2   0.068517\n",
      "Functional         2   0.068517\n",
      "BsmtHalfBath       2   0.068517\n",
      "BsmtFullBath       2   0.068517\n",
      "GarageArea         1   0.034258\n",
      "GarageCars         1   0.034258\n",
      "SaleType           1   0.034258\n",
      "BsmtFinSF1         1   0.034258\n",
      "BsmtFinSF2         1   0.034258\n",
      "BsmtUnfSF          1   0.034258\n",
      "TotalBsmtSF        1   0.034258\n",
      "...              ...        ...\n",
      "OverallQual        0   0.000000\n",
      "RoofStyle          0   0.000000\n",
      "YearRemodAdd       0   0.000000\n",
      "HeatingQC          0   0.000000\n",
      "ExterCond          0   0.000000\n",
      "Foundation         0   0.000000\n",
      "YrSold             0   0.000000\n",
      "MoSold             0   0.000000\n",
      "MiscVal            0   0.000000\n",
      "PoolArea           0   0.000000\n",
      "ScreenPorch        0   0.000000\n",
      "3SsnPorch          0   0.000000\n",
      "EnclosedPorch      0   0.000000\n",
      "OpenPorchSF        0   0.000000\n",
      "WoodDeckSF         0   0.000000\n",
      "PavedDrive         0   0.000000\n",
      "Fireplaces         0   0.000000\n",
      "TotRmsAbvGrd       0   0.000000\n",
      "KitchenAbvGr       0   0.000000\n",
      "BedroomAbvGr       0   0.000000\n",
      "HalfBath           0   0.000000\n",
      "FullBath           0   0.000000\n",
      "GrLivArea          0   0.000000\n",
      "LowQualFinSF       0   0.000000\n",
      "2ndFlrSF           0   0.000000\n",
      "1stFlrSF           0   0.000000\n",
      "CentralAir         0   0.000000\n",
      "SaleCondition      0   0.000000\n",
      "Heating            0   0.000000\n",
      "Id                 0   0.000000\n",
      "\n",
      "[79 rows x 2 columns]\n"
     ]
    }
   ],
   "source": [
    "missing_data = summary_missing_data(DFc)\n",
    "print(missing_data)"
   ]
  },
  {
   "cell_type": "code",
   "execution_count": 9,
   "metadata": {},
   "outputs": [],
   "source": [
    "atts = pd.read_csv('attributes.csv')"
   ]
  },
  {
   "cell_type": "code",
   "execution_count": 10,
   "metadata": {},
   "outputs": [],
   "source": [
    "for i in range(0, len(atts)):\n",
    "    if atts.iloc[i]['Type']=='Categorical':\n",
    "        col_name=atts.iloc[i]['Attribute']\n",
    "        DFc[col_name].fillna('None', inplace=True)\n",
    "        DFc=pd.get_dummies(DFc, columns=[col_name])"
   ]
  },
  {
   "cell_type": "markdown",
   "metadata": {},
   "source": [
    "for value in ((missing_data[missing_data['Total'] < 50]).index):\n",
    "    DFc = DFc.drop(DFc.loc[DFc[value].isnull()].index)\n",
    "summary_missing_data(DFc,17)"
   ]
  },
  {
   "cell_type": "code",
   "execution_count": 11,
   "metadata": {
    "collapsed": true
   },
   "outputs": [
    {
     "data": {
      "text/html": [
       "<div>\n",
       "<style scoped>\n",
       "    .dataframe tbody tr th:only-of-type {\n",
       "        vertical-align: middle;\n",
       "    }\n",
       "\n",
       "    .dataframe tbody tr th {\n",
       "        vertical-align: top;\n",
       "    }\n",
       "\n",
       "    .dataframe thead th {\n",
       "        text-align: right;\n",
       "    }\n",
       "</style>\n",
       "<table border=\"1\" class=\"dataframe\">\n",
       "  <thead>\n",
       "    <tr style=\"text-align: right;\">\n",
       "      <th></th>\n",
       "      <th>Total</th>\n",
       "      <th>Percent</th>\n",
       "    </tr>\n",
       "  </thead>\n",
       "  <tbody>\n",
       "    <tr>\n",
       "      <th>LotFrontage</th>\n",
       "      <td>486</td>\n",
       "      <td>16.649538</td>\n",
       "    </tr>\n",
       "    <tr>\n",
       "      <th>MasVnrArea</th>\n",
       "      <td>23</td>\n",
       "      <td>0.787941</td>\n",
       "    </tr>\n",
       "    <tr>\n",
       "      <th>BsmtHalfBath</th>\n",
       "      <td>2</td>\n",
       "      <td>0.068517</td>\n",
       "    </tr>\n",
       "    <tr>\n",
       "      <th>BsmtFullBath</th>\n",
       "      <td>2</td>\n",
       "      <td>0.068517</td>\n",
       "    </tr>\n",
       "    <tr>\n",
       "      <th>BsmtFinSF2</th>\n",
       "      <td>1</td>\n",
       "      <td>0.034258</td>\n",
       "    </tr>\n",
       "    <tr>\n",
       "      <th>GarageCars</th>\n",
       "      <td>1</td>\n",
       "      <td>0.034258</td>\n",
       "    </tr>\n",
       "    <tr>\n",
       "      <th>GarageArea</th>\n",
       "      <td>1</td>\n",
       "      <td>0.034258</td>\n",
       "    </tr>\n",
       "    <tr>\n",
       "      <th>TotalBsmtSF</th>\n",
       "      <td>1</td>\n",
       "      <td>0.034258</td>\n",
       "    </tr>\n",
       "    <tr>\n",
       "      <th>BsmtUnfSF</th>\n",
       "      <td>1</td>\n",
       "      <td>0.034258</td>\n",
       "    </tr>\n",
       "    <tr>\n",
       "      <th>BsmtFinSF1</th>\n",
       "      <td>1</td>\n",
       "      <td>0.034258</td>\n",
       "    </tr>\n",
       "    <tr>\n",
       "      <th>OverallQual_2</th>\n",
       "      <td>0</td>\n",
       "      <td>0.000000</td>\n",
       "    </tr>\n",
       "  </tbody>\n",
       "</table>\n",
       "</div>"
      ],
      "text/plain": [
       "               Total    Percent\n",
       "LotFrontage      486  16.649538\n",
       "MasVnrArea        23   0.787941\n",
       "BsmtHalfBath       2   0.068517\n",
       "BsmtFullBath       2   0.068517\n",
       "BsmtFinSF2         1   0.034258\n",
       "GarageCars         1   0.034258\n",
       "GarageArea         1   0.034258\n",
       "TotalBsmtSF        1   0.034258\n",
       "BsmtUnfSF          1   0.034258\n",
       "BsmtFinSF1         1   0.034258\n",
       "OverallQual_2      0   0.000000"
      ]
     },
     "execution_count": 11,
     "metadata": {},
     "output_type": "execute_result"
    }
   ],
   "source": [
    "summary_missing_data(DFc.drop(columns=['SalePrice'])).head(11)"
   ]
  },
  {
   "cell_type": "code",
   "execution_count": null,
   "metadata": {},
   "outputs": [],
   "source": [
    "DFc.LotFrontage"
   ]
  },
  {
   "cell_type": "markdown",
   "metadata": {},
   "source": [
    "#### Manually filled in some missing values with modes"
   ]
  },
  {
   "cell_type": "code",
   "execution_count": null,
   "metadata": {},
   "outputs": [],
   "source": [
    "DFc['LotFrontage'].fillna(float(DFc['LotFrontage'].mode()), inplace=True)\n",
    "DFc['MasVnrArea'].fillna(float(DFc['MasVnrArea'].mode()), inplace=True)\n",
    "DFc['BsmtFullBath'].fillna(float(DFc['BsmtFullBath'].mode()), inplace=True)\n",
    "DFc['BsmtHalfBath'].fillna(float(DFc['BsmtHalfBath'].mode()), inplace=True)\n",
    "DFc['BsmtUnfSF'].fillna(float(DFc['BsmtUnfSF'].mode()), inplace=True)\n",
    "DFc['GarageArea'].fillna(float(DFc['GarageArea'].mode()), inplace=True)\n",
    "DFc['TotalBsmtSF'].fillna(float(DFc['TotalBsmtSF'].mode()), inplace=True)\n",
    "DFc['BsmtFinSF1'].fillna(float(DFc['BsmtFinSF1'].mode()), inplace=True)\n",
    "DFc['BsmtFinSF2'].fillna(float(DFc['BsmtFinSF2'].mode()), inplace=True)\n",
    "DFc['GarageCars'].fillna(float(DFc['GarageCars'].mode()), inplace=True)"
   ]
  },
  {
   "cell_type": "code",
   "execution_count": null,
   "metadata": {},
   "outputs": [],
   "source": [
    "summary_missing_data(DFc.drop(columns=['SalePrice'])).head(11)"
   ]
  },
  {
   "cell_type": "code",
   "execution_count": 15,
   "metadata": {},
   "outputs": [
    {
     "name": "stdout",
     "output_type": "stream",
     "text": [
      "Categorical:  []\n"
     ]
    }
   ],
   "source": [
    "categorical = [i for i in DFc.columns if DFc[i].dtype == 'O']\n",
    "print('Categorical: ', categorical)"
   ]
  },
  {
   "cell_type": "code",
   "execution_count": 14,
   "metadata": {},
   "outputs": [
    {
     "name": "stdout",
     "output_type": "stream",
     "text": [
      "numerical columns:  376\n"
     ]
    }
   ],
   "source": [
    "numerical = [i for i in DFc.columns if DFc[i].dtype != 'O']\n",
    "print('numerical columns: ', len(numerical))"
   ]
  },
  {
   "cell_type": "code",
   "execution_count": 19,
   "metadata": {},
   "outputs": [
    {
     "name": "stdout",
     "output_type": "stream",
     "text": [
      "Discrete values less than 25:  355\n"
     ]
    }
   ],
   "source": [
    "discrete = []\n",
    "for i in numerical:\n",
    "    if len(DFc[i].unique()) < 25:\n",
    "        #print(i, ' values: ', DFc[i].unique())\n",
    "        discrete.append(i)\n",
    "print('Discrete values less than 25: ', len(discrete))"
   ]
  },
  {
   "cell_type": "code",
   "execution_count": 20,
   "metadata": {},
   "outputs": [
    {
     "name": "stdout",
     "output_type": "stream",
     "text": [
      "Continuous vars:  19\n"
     ]
    }
   ],
   "source": [
    "continuous = [i for i in numerical if i not in discrete and i not in ['Id', 'SalePrice']]\n",
    "print('Continuous vars: ', len(continuous))"
   ]
  },
  {
   "cell_type": "code",
   "execution_count": 40,
   "metadata": {},
   "outputs": [
    {
     "data": {
      "text/plain": [
       "['LotFrontage',\n",
       " 'MasVnrArea',\n",
       " 'BsmtFinSF1',\n",
       " 'BsmtFinSF2',\n",
       " 'BsmtUnfSF',\n",
       " 'TotalBsmtSF',\n",
       " 'BsmtFullBath',\n",
       " 'BsmtHalfBath',\n",
       " 'GarageCars',\n",
       " 'GarageArea',\n",
       " 'SalePrice']"
      ]
     },
     "execution_count": 40,
     "metadata": {},
     "output_type": "execute_result"
    }
   ],
   "source": [
    "pd.set_option('display.max_columns', 500)\n",
    "na_cols = [i for i in DFc.columns if DFc[i].isna().any()]\n",
    "na_cols"
   ]
  },
  {
   "cell_type": "code",
   "execution_count": 45,
   "metadata": {},
   "outputs": [
    {
     "name": "stdout",
     "output_type": "stream",
     "text": [
      "LotFrontage : float64\n",
      "MasVnrArea : float64\n",
      "BsmtFinSF1 : float64\n",
      "BsmtFinSF2 : float64\n",
      "BsmtUnfSF : float64\n",
      "TotalBsmtSF : float64\n",
      "BsmtFullBath : float64\n",
      "BsmtHalfBath : float64\n",
      "GarageCars : float64\n",
      "GarageArea : float64\n",
      "SalePrice : float64\n"
     ]
    }
   ],
   "source": [
    "for i in na_cols:\n",
    "    print(i, ':', DFc[i].dtype)"
   ]
  },
  {
   "cell_type": "code",
   "execution_count": 50,
   "metadata": {},
   "outputs": [],
   "source": [
    "lot_mean = DFc.LotFrontage.mean()"
   ]
  },
  {
   "cell_type": "code",
   "execution_count": 52,
   "metadata": {},
   "outputs": [],
   "source": [
    "DFc.LotFrontage = DFc.LotFrontage.fillna(value=lot_mean)"
   ]
  },
  {
   "cell_type": "code",
   "execution_count": 53,
   "metadata": {},
   "outputs": [
    {
     "data": {
      "text/plain": [
       "0        65.000000\n",
       "1        80.000000\n",
       "2        68.000000\n",
       "3        60.000000\n",
       "4        84.000000\n",
       "5        85.000000\n",
       "6        75.000000\n",
       "7        69.305795\n",
       "8        51.000000\n",
       "9        50.000000\n",
       "10       70.000000\n",
       "11       85.000000\n",
       "12       69.305795\n",
       "13       91.000000\n",
       "14       69.305795\n",
       "15       51.000000\n",
       "16       69.305795\n",
       "17       72.000000\n",
       "18       66.000000\n",
       "19       70.000000\n",
       "20      101.000000\n",
       "21       57.000000\n",
       "22       75.000000\n",
       "23       44.000000\n",
       "24       69.305795\n",
       "25      110.000000\n",
       "26       60.000000\n",
       "27       98.000000\n",
       "28       47.000000\n",
       "29       60.000000\n",
       "           ...    \n",
       "2889     50.000000\n",
       "2890     75.000000\n",
       "2891     69.000000\n",
       "2892     50.000000\n",
       "2893     60.000000\n",
       "2894     41.000000\n",
       "2895     44.000000\n",
       "2896     69.000000\n",
       "2897     65.000000\n",
       "2898     70.000000\n",
       "2899    140.000000\n",
       "2900     69.305795\n",
       "2901     69.305795\n",
       "2902     95.000000\n",
       "2903     88.000000\n",
       "2904    125.000000\n",
       "2905     78.000000\n",
       "2906     41.000000\n",
       "2907     58.000000\n",
       "2908     69.305795\n",
       "2909     21.000000\n",
       "2910     21.000000\n",
       "2911     80.000000\n",
       "2912     21.000000\n",
       "2913     21.000000\n",
       "2914     21.000000\n",
       "2915     21.000000\n",
       "2916    160.000000\n",
       "2917     62.000000\n",
       "2918     74.000000\n",
       "Name: LotFrontage, Length: 2919, dtype: float64"
      ]
     },
     "execution_count": 53,
     "metadata": {},
     "output_type": "execute_result"
    }
   ],
   "source": [
    "DFc.LotFrontage"
   ]
  },
  {
   "cell_type": "code",
   "execution_count": null,
   "metadata": {},
   "outputs": [],
   "source": [
    "DFtrain = DFc.iloc[0:border,:]\n",
    "print(DFtrain.shape)\n",
    "DFtest = DFc.iloc[border:,:]\n",
    "DFtest = DFtest.drop(columns=['SalePrice'])\n",
    "print(DFtest.shape)"
   ]
  },
  {
   "cell_type": "code",
   "execution_count": null,
   "metadata": {},
   "outputs": [],
   "source": [
    "DFtrain.to_csv('trainer.csv', index=False)\n",
    "DFtest.to_csv('tester.csv', index=False)"
   ]
  },
  {
   "cell_type": "markdown",
   "metadata": {},
   "source": [
    "# Modeling"
   ]
  },
  {
   "cell_type": "markdown",
   "metadata": {},
   "source": [
    "Was going to get ready for PCA stuff below"
   ]
  },
  {
   "cell_type": "code",
   "execution_count": null,
   "metadata": {},
   "outputs": [],
   "source": [
    "from sklearn.preprocessing import StandardScaler\n",
    "from sklearn.decomposition import PCA"
   ]
  },
  {
   "cell_type": "code",
   "execution_count": null,
   "metadata": {
    "scrolled": true
   },
   "outputs": [],
   "source": [
    "X = DFtrain.drop(columns=['Id', 'SalePrice'])\n",
    "Y = DFtrain['SalePrice']\n",
    "Xt = DFtest.drop(columns=['Id'])"
   ]
  },
  {
   "cell_type": "markdown",
   "metadata": {},
   "source": [
    "##### Scaling, otherwise we will just see one component!"
   ]
  },
  {
   "cell_type": "code",
   "execution_count": null,
   "metadata": {},
   "outputs": [],
   "source": [
    "scaler = StandardScaler()\n",
    "scaler.fit(X)\n",
    "X = scaler.transform(X)\n",
    "Xt = scaler.transform(Xt)"
   ]
  },
  {
   "cell_type": "code",
   "execution_count": null,
   "metadata": {},
   "outputs": [],
   "source": [
    "Xcopy  = X\n",
    "Ycopy  = Y\n",
    "Xtcopy = Xt"
   ]
  },
  {
   "cell_type": "code",
   "execution_count": null,
   "metadata": {},
   "outputs": [],
   "source": [
    "pca = PCA(5)"
   ]
  },
  {
   "cell_type": "code",
   "execution_count": null,
   "metadata": {},
   "outputs": [],
   "source": [
    "pca.fit(X)"
   ]
  },
  {
   "cell_type": "code",
   "execution_count": null,
   "metadata": {},
   "outputs": [],
   "source": [
    "pca.n_components_"
   ]
  },
  {
   "cell_type": "code",
   "execution_count": null,
   "metadata": {},
   "outputs": [],
   "source": [
    "X = pca.transform(X)\n",
    "Xt = pca.transform(Xt)"
   ]
  },
  {
   "cell_type": "code",
   "execution_count": null,
   "metadata": {},
   "outputs": [],
   "source": [
    "X.shape, Xt.shape, Y.shape"
   ]
  },
  {
   "cell_type": "markdown",
   "metadata": {},
   "source": [
    "## Linear Regression"
   ]
  },
  {
   "cell_type": "code",
   "execution_count": null,
   "metadata": {},
   "outputs": [],
   "source": [
    "from sklearn.linear_model import LinearRegression\n",
    "from sklearn.metrics import mean_squared_error, r2_score"
   ]
  },
  {
   "cell_type": "code",
   "execution_count": null,
   "metadata": {},
   "outputs": [],
   "source": [
    "from sklearn.model_selection import train_test_split\n",
    "from sklearn.metrics import accuracy_score"
   ]
  },
  {
   "cell_type": "code",
   "execution_count": null,
   "metadata": {},
   "outputs": [],
   "source": [
    "XTRAIN, XTEST, YTRAIN, YTEST=train_test_split(X,Y)\n",
    "r=LinearRegression().fit(XTRAIN,YTRAIN)\n",
    "P=r.predict(XTEST)\n",
    "R2=r2_score(YTEST,P)\n",
    "MSE = mean_squared_error(YTEST,P)\n",
    "print(R2,MSE)"
   ]
  },
  {
   "cell_type": "code",
   "execution_count": null,
   "metadata": {},
   "outputs": [],
   "source": [
    "errs=[]\n",
    "for i in range(100):\n",
    "    XTRAIN, XTEST, YTRAIN, YTEST=train_test_split(X,Y)\n",
    "    r=LinearRegression().fit(XTRAIN,YTRAIN)\n",
    "    P=r.predict(XTEST)\n",
    "    R2=r2_score(YTEST,P)\n",
    "    #MSE = mean_squared_error(YTEST,P)\n",
    "    #print(R2,MSE)\n",
    "    errs.append(1-R2)"
   ]
  },
  {
   "cell_type": "code",
   "execution_count": null,
   "metadata": {},
   "outputs": [],
   "source": [
    "print('Result: ~',np.round((1-np.mean(errs))*100), '% accuracy')"
   ]
  },
  {
   "cell_type": "markdown",
   "metadata": {},
   "source": [
    "maybe we should try a different number of components"
   ]
  },
  {
   "cell_type": "markdown",
   "metadata": {},
   "source": [
    "## Naive Bayes"
   ]
  },
  {
   "cell_type": "code",
   "execution_count": null,
   "metadata": {},
   "outputs": [],
   "source": [
    "from sklearn.naive_bayes import GaussianNB\n",
    "from sklearn.metrics import accuracy_score,confusion_matrix"
   ]
  },
  {
   "cell_type": "code",
   "execution_count": null,
   "metadata": {},
   "outputs": [],
   "source": [
    "gnb=GaussianNB()\n",
    "errs=[]\n",
    "nsplits = 100 #it takes a very long time with 100 splits\n",
    "for split in range(nsplits):\n",
    "    XTRAIN, XTEST, YTRAIN, YTEST=train_test_split(X,Y,test_size=.25)\n",
    "    gnb.fit(XTRAIN,YTRAIN)\n",
    "    YP=gnb.predict(XTEST)\n",
    "    errs.append(1-accuracy_score(YTEST,YP))\n",
    "print(\"%d Splits: Mean Error=%7.6f +/- %7.6f (95%%)\"\\\n",
    "      %(nsplits, np.mean(errs),1.96*np.std(errs)))\n",
    "print(confusion_matrix(YTEST,YP))"
   ]
  },
  {
   "cell_type": "markdown",
   "metadata": {},
   "source": [
    "## Random Forest"
   ]
  },
  {
   "cell_type": "code",
   "execution_count": null,
   "metadata": {},
   "outputs": [],
   "source": [
    "from sklearn.ensemble import RandomForestClassifier"
   ]
  },
  {
   "cell_type": "code",
   "execution_count": null,
   "metadata": {},
   "outputs": [],
   "source": [
    "RF=RandomForestClassifier(n_estimators=500)\n",
    "XTRAIN, XTEST, YTRAIN, YTEST=train_test_split(Xcopy,Ycopy,test_size=.25)\n",
    "RF.fit(XTRAIN,YTRAIN)\n",
    "YP=RF.predict(XTEST)\n",
    "error=(1-accuracy_score(YTEST,YP))\n",
    "print('Error: ', error*100,'%')"
   ]
  },
  {
   "cell_type": "code",
   "execution_count": null,
   "metadata": {},
   "outputs": [],
   "source": []
  },
  {
   "cell_type": "code",
   "execution_count": null,
   "metadata": {},
   "outputs": [],
   "source": []
  },
  {
   "cell_type": "code",
   "execution_count": null,
   "metadata": {},
   "outputs": [],
   "source": []
  },
  {
   "cell_type": "markdown",
   "metadata": {},
   "source": [
    "## Logistic Regression"
   ]
  },
  {
   "cell_type": "code",
   "execution_count": null,
   "metadata": {},
   "outputs": [],
   "source": [
    "from sklearn.linear_model import LogisticRegression\n",
    "logisticRegr = LogisticRegression(solver = 'lbfgs')\n",
    "logisticRegr.fit(X,Y)"
   ]
  },
  {
   "cell_type": "code",
   "execution_count": null,
   "metadata": {},
   "outputs": [],
   "source": [
    "logisticRegr.predict(Xt[0].reshape(1,-1))"
   ]
  },
  {
   "cell_type": "code",
   "execution_count": null,
   "metadata": {},
   "outputs": [],
   "source": [
    "logisticRegr.predict(Xt[0:10])"
   ]
  },
  {
   "cell_type": "code",
   "execution_count": null,
   "metadata": {},
   "outputs": [],
   "source": []
  },
  {
   "cell_type": "code",
   "execution_count": null,
   "metadata": {},
   "outputs": [],
   "source": []
  },
  {
   "cell_type": "code",
   "execution_count": null,
   "metadata": {},
   "outputs": [],
   "source": []
  },
  {
   "cell_type": "code",
   "execution_count": null,
   "metadata": {},
   "outputs": [],
   "source": []
  },
  {
   "cell_type": "code",
   "execution_count": null,
   "metadata": {},
   "outputs": [],
   "source": []
  }
 ],
 "metadata": {
  "kernelspec": {
   "display_name": "Python 3",
   "language": "python",
   "name": "python3"
  },
  "language_info": {
   "codemirror_mode": {
    "name": "ipython",
    "version": 3
   },
   "file_extension": ".py",
   "mimetype": "text/x-python",
   "name": "python",
   "nbconvert_exporter": "python",
   "pygments_lexer": "ipython3",
   "version": "3.6.7"
  }
 },
 "nbformat": 4,
 "nbformat_minor": 2
}
