{
 "cells": [
  {
   "cell_type": "markdown",
   "metadata": {},
   "source": [
    "## Final modeling"
   ]
  },
  {
   "cell_type": "code",
   "execution_count": 1,
   "metadata": {},
   "outputs": [],
   "source": [
    "import pandas as pd\n",
    "import numpy as np\n",
    "import matplotlib.pyplot as plt\n",
    "import seaborn as sns\n",
    "%matplotlib inline"
   ]
  },
  {
   "cell_type": "code",
   "execution_count": 2,
   "metadata": {},
   "outputs": [],
   "source": [
    "train = pd.read_csv('clean_train.csv')\n",
    "test = pd.read_csv('clean_test.csv')"
   ]
  },
  {
   "cell_type": "code",
   "execution_count": 3,
   "metadata": {},
   "outputs": [],
   "source": [
    "from sklearn.model_selection import train_test_split\n",
    "from sklearn.linear_model import LogisticRegression as LR\n",
    "from sklearn.metrics import confusion_matrix, accuracy_score, f1_score, roc_curve\n",
    "from sklearn.preprocessing import StandardScaler"
   ]
  },
  {
   "cell_type": "code",
   "execution_count": 4,
   "metadata": {},
   "outputs": [],
   "source": [
    "import warnings\n",
    "warnings.filterwarnings(\"ignore\")"
   ]
  },
  {
   "cell_type": "code",
   "execution_count": 5,
   "metadata": {},
   "outputs": [],
   "source": [
    "from sklearn.metrics import roc_curve\n",
    "from sklearn.metrics import confusion_matrix"
   ]
  },
  {
   "cell_type": "markdown",
   "metadata": {},
   "source": [
    "# Logistic Regression"
   ]
  },
  {
   "cell_type": "code",
   "execution_count": 6,
   "metadata": {},
   "outputs": [],
   "source": [
    "X = train.drop(columns=['is_legendary'])\n",
    "# Xother = X.copy()\n",
    "# Xother = pd.get_dummies(Xother, columns=['abilities'])\n",
    "Y = train['is_legendary']\n",
    "\n",
    "xdata = train.drop(columns=['is_legendary'])\n",
    "\n",
    "scaler = StandardScaler()\n",
    "X_scaled = scaler.fit_transform(X)\n",
    "test_scaled = scaler.fit_transform(test)"
   ]
  },
  {
   "cell_type": "code",
   "execution_count": 7,
   "metadata": {},
   "outputs": [],
   "source": [
    "XTRAIN,XTEST,YTRAIN,YTEST=train_test_split(xdata,Y)"
   ]
  },
  {
   "cell_type": "code",
   "execution_count": 8,
   "metadata": {},
   "outputs": [],
   "source": [
    "r=LR(penalty='l1',random_state=1).fit(XTRAIN,YTRAIN)"
   ]
  },
  {
   "cell_type": "code",
   "execution_count": 9,
   "metadata": {},
   "outputs": [
    {
     "name": "stdout",
     "output_type": "stream",
     "text": [
      "a (intercept)= [-1.81447617]\n",
      "b (slope)= [[-2.22527601e+00 -2.03311085e-02  4.22878509e-02  5.16117192e-03\n",
      "   0.00000000e+00 -2.67110099e-01  2.61788307e-01  0.00000000e+00\n",
      "   3.19938160e-01  0.00000000e+00  0.00000000e+00 -8.39765266e-02\n",
      "   4.97055310e-01 -9.61128558e-01  0.00000000e+00  0.00000000e+00\n",
      "   0.00000000e+00 -1.20905468e+00  0.00000000e+00  1.20447551e-01\n",
      "  -2.74534721e-01  2.65076953e-02 -7.97247011e-03  1.83953333e-03\n",
      "   1.06046548e-02  1.74232911e-02  3.53938416e-02]]\n",
      "x0 (50% point)= [[-8.15393762e-01 -8.92462984e+01  4.29077415e+01  3.51562823e+02\n",
      "              inf -6.79298979e+00  6.93108180e+00             inf\n",
      "   5.67133403e+00             inf             inf -2.16069448e+01\n",
      "   3.65045124e+00 -1.88786002e+00             inf             inf\n",
      "              inf -1.50073954e+00             inf  1.50644506e+01\n",
      "  -6.60927757e+00  6.84509217e+01 -2.27592722e+02  9.86378528e+02\n",
      "   1.71101862e+02  1.04140840e+02  5.12653075e+01]]\n"
     ]
    }
   ],
   "source": [
    "b=r.coef_\n",
    "a=r.intercept_\n",
    "x0=-a/b\n",
    "print(\"a (intercept)=\",a)\n",
    "print(\"b (slope)=\",b)\n",
    "print(\"x0 (50% point)=\",x0)"
   ]
  },
  {
   "cell_type": "code",
   "execution_count": 10,
   "metadata": {},
   "outputs": [],
   "source": [
    "YP=r.predict(XTEST)"
   ]
  },
  {
   "cell_type": "markdown",
   "metadata": {},
   "source": [
    "##### Confusion Matrix"
   ]
  },
  {
   "cell_type": "code",
   "execution_count": 11,
   "metadata": {},
   "outputs": [],
   "source": [
    "CM = confusion_matrix(YTEST,YP)"
   ]
  },
  {
   "cell_type": "code",
   "execution_count": 12,
   "metadata": {},
   "outputs": [
    {
     "data": {
      "text/plain": [
       "array([[116,   2],\n",
       "       [  5,   7]], dtype=int64)"
      ]
     },
     "execution_count": 12,
     "metadata": {},
     "output_type": "execute_result"
    }
   ],
   "source": [
    "CM"
   ]
  },
  {
   "cell_type": "markdown",
   "metadata": {},
   "source": [
    "#### Accuracy, Precision, and Recall"
   ]
  },
  {
   "cell_type": "code",
   "execution_count": 13,
   "metadata": {
    "scrolled": true
   },
   "outputs": [],
   "source": [
    "accuracy = accuracy_score(YP,YTEST)\n",
    "TP,FP,FN = CM[0][0],CM[1][1],CM[1][0]\n",
    "precision = TP/(TP+FP)\n",
    "recall = TP/(TP+FN)"
   ]
  },
  {
   "cell_type": "code",
   "execution_count": 14,
   "metadata": {},
   "outputs": [
    {
     "name": "stdout",
     "output_type": "stream",
     "text": [
      "~ 94.6 % accurate\n",
      "~ 94.3 % precise\n",
      "~ 95.9 % recall\n"
     ]
    }
   ],
   "source": [
    "print(\"~\",round(accuracy * 100, 1),\"% accurate\")\n",
    "print(\"~\",round(precision * 100, 1),\"% precise\")\n",
    "print(\"~\",round(recall * 100, 1),\"% recall\")"
   ]
  },
  {
   "cell_type": "markdown",
   "metadata": {},
   "source": [
    "##### ROC"
   ]
  },
  {
   "cell_type": "code",
   "execution_count": 15,
   "metadata": {},
   "outputs": [],
   "source": [
    "pX=r.predict_proba(XTEST)[:,1]"
   ]
  },
  {
   "cell_type": "code",
   "execution_count": null,
   "metadata": {},
   "outputs": [],
   "source": []
  },
  {
   "cell_type": "code",
   "execution_count": 16,
   "metadata": {},
   "outputs": [
    {
     "data": {
      "image/png": "[encoded data removed]",
      "text/plain": [
       "<Figure size 504x504 with 1 Axes>"
      ]
     },
     "metadata": {
      "needs_background": "light"
     },
     "output_type": "display_data"
    }
   ],
   "source": [
    "fpr2, tpr2, threshold2=roc_curve(YTEST,pX)\n",
    "plt.plot(fpr2,tpr2,c=\"red\",ls=\"-\",label=\"Rate\")\n",
    "plt.plot([0,1],[0,1],c=\"k\",ls=\"-\")\n",
    "plt.legend(fontsize=12)\n",
    "plt.xlabel(\"False Positive Rate\", fontsize=14)\n",
    "plt.ylabel(\"True Positive Rate\", fontsize=14)\n",
    "plt.grid()\n",
    "fig=plt.gcf()\n",
    "fig.set_size_inches(7,7)\n",
    "#fig.savefig(\"ROC-curve-gas-guzzler-logistic.pdf\")"
   ]
  }
 ],
 "metadata": {
  "kernelspec": {
   "display_name": "Python 3",
   "language": "python",
   "name": "python3"
  },
  "language_info": {
   "codemirror_mode": {
    "name": "ipython",
    "version": 3
   },
   "file_extension": ".py",
   "mimetype": "text/x-python",
   "name": "python",
   "nbconvert_exporter": "python",
   "pygments_lexer": "ipython3",
   "version": "3.7.3"
  }
 },
 "nbformat": 4,
 "nbformat_minor": 2
}
