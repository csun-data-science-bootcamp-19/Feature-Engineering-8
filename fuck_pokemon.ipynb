{
 "cells": [
  {
   "cell_type": "code",
   "execution_count": 16,
   "metadata": {},
   "outputs": [],
   "source": [
    "import pandas as pd\n",
    "import numpy as np\n",
    "import sqlite3\n",
    "import matplotlib.pyplot as plt\n",
    "import seaborn as sns\n",
    "%matplotlib inline\n"
   ]
  },
  {
   "cell_type": "code",
   "execution_count": 1,
   "metadata": {},
   "outputs": [],
   "source": [
    "\n",
    "conn = sqlite3.connect('final.db')\n",
    "cur = conn.cursor()\n",
    "\n",
    "def fetch_table_names(cur: sqlite3.Cursor) -> [str]:\n",
    "    '''\n",
    "    Retrieves all tables in the database\n",
    "    '''\n",
    "    \n",
    "    cur.execute('SELECT name FROM sqlite_master WHERE type = \\'table\\';')\n",
    "    return [x[0] for x in cur.fetchall()]\n",
    "\n",
    "def fetch_column_names(cur: sqlite3.Cursor, table: str) -> [str]:\n",
    "    '''\n",
    "    Retrieves all columns in a table\n",
    "    '''\n",
    "    \n",
    "    cur.execute('PRAGMA table_info(' + table + ');')\n",
    "    return [x[1] for x in cur.fetchall()]\n",
    "\n",
    "def fetch_col_values(cur: sqlite3.Cursor, table: str, col: str) -> []:\n",
    "    '''\n",
    "    Returns all values for a specific column\n",
    "    '''\n",
    "    \n",
    "    cur.execute('SELECT ' + col + ' FROM ' + table + ';')\n",
    "    return [x[0] for x in cur.fetchall()]\n",
    "\n",
    "columns_train = fetch_column_names(cur, 'POKEMON_TRAIN')\n",
    "\n",
    "columns_test = fetch_column_names(cur, 'POKEMON_TEST')\n",
    "\n",
    "def create_df(cursor, db_name, columns):\n",
    "    df = pd.DataFrame()\n",
    "    for i in columns:\n",
    "        df[i] = i\n",
    "        df[i] = np.array(fetch_col_values(cursor, db_name, i))\n",
    "    \n",
    "    return df\n",
    "\n",
    "testDF = create_df(cur, 'POKEMON_TEST', columns_test)\n",
    "\n",
    "trainDF = create_df(cur, 'POKEMON_TRAIN', columns_train)"
   ]
  },
  {
   "cell_type": "code",
   "execution_count": 2,
   "metadata": {},
   "outputs": [],
   "source": [
    "poke_stats = trainDF['poke_stats']\n",
    "\n",
    "stat_type = ['HP', 'Atk', 'Def', 'SpA', 'SpD', 'Spe']"
   ]
  },
  {
   "cell_type": "code",
   "execution_count": 3,
   "metadata": {},
   "outputs": [],
   "source": [
    "stat_list = []\n",
    "for i in range(520):\n",
    "    stat_list.append(poke_stats.iloc[i].split(', '))\n",
    "\n",
    "trainDF1 = pd.DataFrame(stat_list, columns=stat_type)\n",
    "\n",
    "def combine_dfs(df1, df2):\n",
    "    #adds df2 columns to the end of df1\n",
    "    cols = df2.columns\n",
    "    for col_names in cols:\n",
    "        df1[col_names] = df2[col_names]\n",
    "    return df1"
   ]
  },
  {
   "cell_type": "code",
   "execution_count": 4,
   "metadata": {},
   "outputs": [],
   "source": [
    "trainDF = combine_dfs(trainDF, trainDF1)\n",
    "trainDF = trainDF.drop(columns='poke_stats')\n",
    "abilities = trainDF['abilities']"
   ]
  },
  {
   "cell_type": "code",
   "execution_count": null,
   "metadata": {},
   "outputs": [],
   "source": [
    "len(abilities[0].split(', '))"
   ]
  },
  {
   "cell_type": "code",
   "execution_count": 5,
   "metadata": {},
   "outputs": [],
   "source": [
    "abillis = []\n",
    "for i in abilities:\n",
    "    abillis.append(len(i.split(', ')))"
   ]
  },
  {
   "cell_type": "code",
   "execution_count": 33,
   "metadata": {},
   "outputs": [
    {
     "data": {
      "text/plain": [
       "rowid              int32\n",
       "unique_id         object\n",
       "types             object\n",
       "abilities          int64\n",
       "base_happiness    object\n",
       "height_m          object\n",
       "weight_kg         object\n",
       "is_legendary      object\n",
       "HP                object\n",
       "Atk               object\n",
       "Def               object\n",
       "SpA               object\n",
       "SpD               object\n",
       "Spe               object\n",
       "dtype: object"
      ]
     },
     "execution_count": 33,
     "metadata": {},
     "output_type": "execute_result"
    }
   ],
   "source": [
    "trainDF.dtypes"
   ]
  },
  {
   "cell_type": "markdown",
   "metadata": {},
   "source": [
    "\n"
   ]
  },
  {
   "cell_type": "code",
   "execution_count": null,
   "metadata": {},
   "outputs": [],
   "source": []
  },
  {
   "cell_type": "code",
   "execution_count": null,
   "metadata": {},
   "outputs": [],
   "source": []
  },
  {
   "cell_type": "code",
   "execution_count": null,
   "metadata": {},
   "outputs": [],
   "source": []
  }
 ],
 "metadata": {
  "kernelspec": {
   "display_name": "Python 3",
   "language": "python",
   "name": "python3"
  },
  "language_info": {
   "codemirror_mode": {
    "name": "ipython",
    "version": 3
   },
   "file_extension": ".py",
   "mimetype": "text/x-python",
   "name": "python",
   "nbconvert_exporter": "python",
   "pygments_lexer": "ipython3",
   "version": "3.7.0"
  }
 },
 "nbformat": 4,
 "nbformat_minor": 2
}
