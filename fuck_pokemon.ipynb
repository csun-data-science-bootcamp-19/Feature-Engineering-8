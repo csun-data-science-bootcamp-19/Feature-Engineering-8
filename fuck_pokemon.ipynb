{
 "cells": [
  {
   "cell_type": "code",
   "execution_count": 1,
   "metadata": {},
   "outputs": [],
   "source": [
    "import pandas as pd\n",
    "import numpy as np"
   ]
  },
  {
   "cell_type": "code",
   "execution_count": 2,
   "metadata": {},
   "outputs": [],
   "source": [
    "import sqlite3\n",
    "conn = sqlite3.connect('final.db')\n",
    "cur = conn.cursor()"
   ]
  },
  {
   "cell_type": "code",
   "execution_count": 3,
   "metadata": {},
   "outputs": [],
   "source": [
    "def fetch_table_names(cur: sqlite3.Cursor) -> [str]:\n",
    "    '''\n",
    "    Retrieves all tables in the database\n",
    "    '''\n",
    "    \n",
    "    cur.execute('SELECT name FROM sqlite_master WHERE type = \\'table\\';')\n",
    "    return [x[0] for x in cur.fetchall()]\n",
    "\n",
    "def fetch_column_names(cur: sqlite3.Cursor, table: str) -> [str]:\n",
    "    '''\n",
    "    Retrieves all columns in a table\n",
    "    '''\n",
    "    \n",
    "    cur.execute('PRAGMA table_info(' + table + ');')\n",
    "    return [x[1] for x in cur.fetchall()]\n",
    "\n",
    "def fetch_col_values(cur: sqlite3.Cursor, table: str, col: str) -> []:\n",
    "    '''\n",
    "    Returns all values for a specific column\n",
    "    '''\n",
    "    \n",
    "    cur.execute('SELECT ' + col + ' FROM ' + table + ';')\n",
    "    return [x[0] for x in cur.fetchall()]"
   ]
  },
  {
   "cell_type": "code",
   "execution_count": 4,
   "metadata": {},
   "outputs": [],
   "source": [
    "columns_train = fetch_column_names(cur, 'POKEMON_TRAIN')"
   ]
  },
  {
   "cell_type": "code",
   "execution_count": 5,
   "metadata": {},
   "outputs": [],
   "source": [
    "columns_test = fetch_column_names(cur, 'POKEMON_TEST')"
   ]
  },
  {
   "cell_type": "code",
   "execution_count": 6,
   "metadata": {},
   "outputs": [],
   "source": [
    "def create_df(cursor, db_name, columns):\n",
    "    df = pd.DataFrame()\n",
    "    for i in columns:\n",
    "        df[i] = i\n",
    "        df[i] = np.array(fetch_col_values(cursor, db_name, i))\n",
    "    \n",
    "    return df"
   ]
  },
  {
   "cell_type": "code",
   "execution_count": 7,
   "metadata": {},
   "outputs": [],
   "source": [
    "testDF = create_df(cur, 'POKEMON_TEST', columns_test)"
   ]
  },
  {
   "cell_type": "code",
   "execution_count": 8,
   "metadata": {},
   "outputs": [],
   "source": [
    "trainDF = create_df(cur, 'POKEMON_TRAIN', columns_train)"
   ]
  },
  {
   "cell_type": "code",
   "execution_count": 9,
   "metadata": {},
   "outputs": [
    {
     "data": {
      "text/html": [
       "<div>\n",
       "<style scoped>\n",
       "    .dataframe tbody tr th:only-of-type {\n",
       "        vertical-align: middle;\n",
       "    }\n",
       "\n",
       "    .dataframe tbody tr th {\n",
       "        vertical-align: top;\n",
       "    }\n",
       "\n",
       "    .dataframe thead th {\n",
       "        text-align: right;\n",
       "    }\n",
       "</style>\n",
       "<table border=\"1\" class=\"dataframe\">\n",
       "  <thead>\n",
       "    <tr style=\"text-align: right;\">\n",
       "      <th></th>\n",
       "      <th>rowid</th>\n",
       "      <th>unique_id</th>\n",
       "      <th>types</th>\n",
       "      <th>abilities</th>\n",
       "      <th>base_happiness</th>\n",
       "      <th>height_m</th>\n",
       "      <th>weight_kg</th>\n",
       "      <th>poke_stats</th>\n",
       "    </tr>\n",
       "  </thead>\n",
       "  <tbody>\n",
       "    <tr>\n",
       "      <th>0</th>\n",
       "      <td>1</td>\n",
       "      <td>602</td>\n",
       "      <td>grass, nan</td>\n",
       "      <td>['Overgrow', 'Contrary']</td>\n",
       "      <td>70.0</td>\n",
       "      <td>0.6</td>\n",
       "      <td>8.1</td>\n",
       "      <td>nan, nan, 55.0, 45.0, nan, 63.0</td>\n",
       "    </tr>\n",
       "    <tr>\n",
       "      <th>1</th>\n",
       "      <td>2</td>\n",
       "      <td>756</td>\n",
       "      <td>fairy, flying</td>\n",
       "      <td>['Hustle', 'Serene Grace', 'Super Luck']</td>\n",
       "      <td>70.0</td>\n",
       "      <td>1.5</td>\n",
       "      <td>38.0</td>\n",
       "      <td>nan, nan, 95.0, 120.0, 115.0, 80.0</td>\n",
       "    </tr>\n",
       "    <tr>\n",
       "      <th>2</th>\n",
       "      <td>3</td>\n",
       "      <td>191</td>\n",
       "      <td>electric, nan</td>\n",
       "      <td>['Static', 'Plus']</td>\n",
       "      <td>70.0</td>\n",
       "      <td>1.4</td>\n",
       "      <td>61.5</td>\n",
       "      <td>nan, 95.0, 105.0, 165.0, nan, 45.0</td>\n",
       "    </tr>\n",
       "    <tr>\n",
       "      <th>3</th>\n",
       "      <td>4</td>\n",
       "      <td>16</td>\n",
       "      <td>psychic, nan</td>\n",
       "      <td>['Levitate']</td>\n",
       "      <td>None</td>\n",
       "      <td>0.2</td>\n",
       "      <td>0.6</td>\n",
       "      <td>nan, 30.0, 50.0, 65.0, nan, 45.0</td>\n",
       "    </tr>\n",
       "    <tr>\n",
       "      <th>4</th>\n",
       "      <td>5</td>\n",
       "      <td>718</td>\n",
       "      <td>fighting, psychic</td>\n",
       "      <td>['Pure Power', 'Telepathy']</td>\n",
       "      <td>None</td>\n",
       "      <td>1.3</td>\n",
       "      <td>31.5</td>\n",
       "      <td>nan, 100.0, 85.0, 80.0, 85.0, 100.0</td>\n",
       "    </tr>\n",
       "  </tbody>\n",
       "</table>\n",
       "</div>"
      ],
      "text/plain": [
       "   rowid unique_id              types  \\\n",
       "0      1       602         grass, nan   \n",
       "1      2       756      fairy, flying   \n",
       "2      3       191      electric, nan   \n",
       "3      4        16       psychic, nan   \n",
       "4      5       718  fighting, psychic   \n",
       "\n",
       "                                  abilities base_happiness height_m weight_kg  \\\n",
       "0                  ['Overgrow', 'Contrary']           70.0      0.6       8.1   \n",
       "1  ['Hustle', 'Serene Grace', 'Super Luck']           70.0      1.5      38.0   \n",
       "2                        ['Static', 'Plus']           70.0      1.4      61.5   \n",
       "3                              ['Levitate']           None      0.2       0.6   \n",
       "4               ['Pure Power', 'Telepathy']           None      1.3      31.5   \n",
       "\n",
       "                            poke_stats  \n",
       "0      nan, nan, 55.0, 45.0, nan, 63.0  \n",
       "1   nan, nan, 95.0, 120.0, 115.0, 80.0  \n",
       "2   nan, 95.0, 105.0, 165.0, nan, 45.0  \n",
       "3     nan, 30.0, 50.0, 65.0, nan, 45.0  \n",
       "4  nan, 100.0, 85.0, 80.0, 85.0, 100.0  "
      ]
     },
     "execution_count": 9,
     "metadata": {},
     "output_type": "execute_result"
    }
   ],
   "source": [
    "testDF.head()"
   ]
  },
  {
   "cell_type": "code",
   "execution_count": 10,
   "metadata": {
    "scrolled": true
   },
   "outputs": [],
   "source": [
    "poke_stats = trainDF['poke_stats']"
   ]
  },
  {
   "cell_type": "code",
   "execution_count": 11,
   "metadata": {},
   "outputs": [],
   "source": [
    "#type(poke_stats), poke_stats.dtype"
   ]
  },
  {
   "cell_type": "code",
   "execution_count": 12,
   "metadata": {},
   "outputs": [],
   "source": [
    "stat_type = ['HP', 'Atk', 'Def', 'SpA', 'SpD', 'Spe']"
   ]
  },
  {
   "cell_type": "code",
   "execution_count": 13,
   "metadata": {},
   "outputs": [],
   "source": [
    "#def seperate_stats(stats, df, col_names):\n",
    "#    col_pos = 0\n",
    "#    for string in stats.size:\n",
    "#        for type in stat_type:\n",
    "#            for attr in string:\n",
    "#                df[type] = attr\n",
    "#            "
   ]
  },
  {
   "cell_type": "code",
   "execution_count": 14,
   "metadata": {},
   "outputs": [],
   "source": [
    "#for i in stat_type:\n",
    "#    trainDF[i] = i"
   ]
  },
  {
   "cell_type": "code",
   "execution_count": 15,
   "metadata": {},
   "outputs": [],
   "source": [
    "stat_list = []\n",
    "for i in range(520):\n",
    "    stat_list.append(poke_stats.iloc[i].split(', '))"
   ]
  },
  {
   "cell_type": "code",
   "execution_count": 16,
   "metadata": {},
   "outputs": [],
   "source": [
    "#hi[0]"
   ]
  },
  {
   "cell_type": "code",
   "execution_count": 17,
   "metadata": {},
   "outputs": [],
   "source": [
    "trainDF1 = pd.DataFrame(stat_list, columns=stat_type)"
   ]
  },
  {
   "cell_type": "code",
   "execution_count": 18,
   "metadata": {},
   "outputs": [
    {
     "data": {
      "text/html": [
       "<div>\n",
       "<style scoped>\n",
       "    .dataframe tbody tr th:only-of-type {\n",
       "        vertical-align: middle;\n",
       "    }\n",
       "\n",
       "    .dataframe tbody tr th {\n",
       "        vertical-align: top;\n",
       "    }\n",
       "\n",
       "    .dataframe thead th {\n",
       "        text-align: right;\n",
       "    }\n",
       "</style>\n",
       "<table border=\"1\" class=\"dataframe\">\n",
       "  <thead>\n",
       "    <tr style=\"text-align: right;\">\n",
       "      <th></th>\n",
       "      <th>HP</th>\n",
       "      <th>Atk</th>\n",
       "      <th>Def</th>\n",
       "      <th>SpA</th>\n",
       "      <th>SpD</th>\n",
       "      <th>Spe</th>\n",
       "    </tr>\n",
       "  </thead>\n",
       "  <tbody>\n",
       "    <tr>\n",
       "      <th>0</th>\n",
       "      <td>nan</td>\n",
       "      <td>80.0</td>\n",
       "      <td>55.0</td>\n",
       "      <td>25.0</td>\n",
       "      <td>35.0</td>\n",
       "      <td>35.0</td>\n",
       "    </tr>\n",
       "    <tr>\n",
       "      <th>1</th>\n",
       "      <td>nan</td>\n",
       "      <td>nan</td>\n",
       "      <td>65.0</td>\n",
       "      <td>45.0</td>\n",
       "      <td>45.0</td>\n",
       "      <td>45.0</td>\n",
       "    </tr>\n",
       "    <tr>\n",
       "      <th>2</th>\n",
       "      <td>nan</td>\n",
       "      <td>64.0</td>\n",
       "      <td>60.0</td>\n",
       "      <td>111.0</td>\n",
       "      <td>60.0</td>\n",
       "      <td>117.0</td>\n",
       "    </tr>\n",
       "    <tr>\n",
       "      <th>3</th>\n",
       "      <td>nan</td>\n",
       "      <td>50.0</td>\n",
       "      <td>95.0</td>\n",
       "      <td>40.0</td>\n",
       "      <td>50.0</td>\n",
       "      <td>35.0</td>\n",
       "    </tr>\n",
       "    <tr>\n",
       "      <th>4</th>\n",
       "      <td>nan</td>\n",
       "      <td>65.0</td>\n",
       "      <td>64.0</td>\n",
       "      <td>44.0</td>\n",
       "      <td>48.0</td>\n",
       "      <td>43.0</td>\n",
       "    </tr>\n",
       "  </tbody>\n",
       "</table>\n",
       "</div>"
      ],
      "text/plain": [
       "    HP   Atk   Def    SpA   SpD    Spe\n",
       "0  nan  80.0  55.0   25.0  35.0   35.0\n",
       "1  nan   nan  65.0   45.0  45.0   45.0\n",
       "2  nan  64.0  60.0  111.0  60.0  117.0\n",
       "3  nan  50.0  95.0   40.0  50.0   35.0\n",
       "4  nan  65.0  64.0   44.0  48.0   43.0"
      ]
     },
     "execution_count": 18,
     "metadata": {},
     "output_type": "execute_result"
    }
   ],
   "source": [
    "trainDF1.head()\n"
   ]
  },
  {
   "cell_type": "code",
   "execution_count": null,
   "metadata": {},
   "outputs": [],
   "source": []
  },
  {
   "cell_type": "code",
   "execution_count": 20,
   "metadata": {},
   "outputs": [],
   "source": [
    "def combine_dfs(df1, df2):\n",
    "    #adds df2 columns to the end of df1\n",
    "    cols = df2.columns\n",
    "    for col_names in cols:\n",
    "        df1[col_names] = df2[col_names]\n",
    "    return df1"
   ]
  },
  {
   "cell_type": "code",
   "execution_count": 21,
   "metadata": {},
   "outputs": [],
   "source": [
    "trainDF = combine_dfs(trainDF, trainDF1)"
   ]
  },
  {
   "cell_type": "code",
   "execution_count": 24,
   "metadata": {},
   "outputs": [],
   "source": [
    "trainDF = trainDF.drop(columns='poke_stats')"
   ]
  },
  {
   "cell_type": "code",
   "execution_count": 25,
   "metadata": {},
   "outputs": [
    {
     "data": {
      "text/html": [
       "<div>\n",
       "<style scoped>\n",
       "    .dataframe tbody tr th:only-of-type {\n",
       "        vertical-align: middle;\n",
       "    }\n",
       "\n",
       "    .dataframe tbody tr th {\n",
       "        vertical-align: top;\n",
       "    }\n",
       "\n",
       "    .dataframe thead th {\n",
       "        text-align: right;\n",
       "    }\n",
       "</style>\n",
       "<table border=\"1\" class=\"dataframe\">\n",
       "  <thead>\n",
       "    <tr style=\"text-align: right;\">\n",
       "      <th></th>\n",
       "      <th>rowid</th>\n",
       "      <th>unique_id</th>\n",
       "      <th>types</th>\n",
       "      <th>abilities</th>\n",
       "      <th>base_happiness</th>\n",
       "      <th>height_m</th>\n",
       "      <th>weight_kg</th>\n",
       "      <th>is_legendary</th>\n",
       "      <th>HP</th>\n",
       "      <th>Atk</th>\n",
       "      <th>Def</th>\n",
       "      <th>SpA</th>\n",
       "      <th>SpD</th>\n",
       "      <th>Spe</th>\n",
       "    </tr>\n",
       "  </thead>\n",
       "  <tbody>\n",
       "    <tr>\n",
       "      <th>0</th>\n",
       "      <td>1</td>\n",
       "      <td>665</td>\n",
       "      <td>fighting, nan</td>\n",
       "      <td>['Guts', 'Sheer Force', 'Iron Fist']</td>\n",
       "      <td>70.0</td>\n",
       "      <td>0.6</td>\n",
       "      <td>12.5</td>\n",
       "      <td>0</td>\n",
       "      <td>nan</td>\n",
       "      <td>80.0</td>\n",
       "      <td>55.0</td>\n",
       "      <td>25.0</td>\n",
       "      <td>35.0</td>\n",
       "      <td>35.0</td>\n",
       "    </tr>\n",
       "    <tr>\n",
       "      <th>1</th>\n",
       "      <td>2</td>\n",
       "      <td>288</td>\n",
       "      <td>dragon, nan</td>\n",
       "      <td>['Bulletproof', 'Soundproof', 'Overcoat']</td>\n",
       "      <td>70.0</td>\n",
       "      <td>0.6</td>\n",
       "      <td>29.7</td>\n",
       "      <td>0</td>\n",
       "      <td>nan</td>\n",
       "      <td>nan</td>\n",
       "      <td>65.0</td>\n",
       "      <td>45.0</td>\n",
       "      <td>45.0</td>\n",
       "      <td>45.0</td>\n",
       "    </tr>\n",
       "    <tr>\n",
       "      <th>2</th>\n",
       "      <td>3</td>\n",
       "      <td>349</td>\n",
       "      <td>poison, fire</td>\n",
       "      <td>['Corrosion', 'Oblivious']</td>\n",
       "      <td>70.0</td>\n",
       "      <td>1.2</td>\n",
       "      <td>22.2</td>\n",
       "      <td>0</td>\n",
       "      <td>nan</td>\n",
       "      <td>64.0</td>\n",
       "      <td>60.0</td>\n",
       "      <td>111.0</td>\n",
       "      <td>60.0</td>\n",
       "      <td>117.0</td>\n",
       "    </tr>\n",
       "    <tr>\n",
       "      <th>3</th>\n",
       "      <td>4</td>\n",
       "      <td>260</td>\n",
       "      <td>ground, nan</td>\n",
       "      <td>['Rock Head', 'Lightningrod', 'Battle Armor']</td>\n",
       "      <td>70.0</td>\n",
       "      <td>0.4</td>\n",
       "      <td>6.5</td>\n",
       "      <td>0</td>\n",
       "      <td>nan</td>\n",
       "      <td>50.0</td>\n",
       "      <td>95.0</td>\n",
       "      <td>40.0</td>\n",
       "      <td>50.0</td>\n",
       "      <td>35.0</td>\n",
       "    </tr>\n",
       "    <tr>\n",
       "      <th>4</th>\n",
       "      <td>5</td>\n",
       "      <td>536</td>\n",
       "      <td>water, nan</td>\n",
       "      <td>['Torrent', 'Sheer Force']</td>\n",
       "      <td>70.0</td>\n",
       "      <td>0.6</td>\n",
       "      <td>9.5</td>\n",
       "      <td>0</td>\n",
       "      <td>nan</td>\n",
       "      <td>65.0</td>\n",
       "      <td>64.0</td>\n",
       "      <td>44.0</td>\n",
       "      <td>48.0</td>\n",
       "      <td>43.0</td>\n",
       "    </tr>\n",
       "  </tbody>\n",
       "</table>\n",
       "</div>"
      ],
      "text/plain": [
       "   rowid unique_id          types  \\\n",
       "0      1       665  fighting, nan   \n",
       "1      2       288    dragon, nan   \n",
       "2      3       349   poison, fire   \n",
       "3      4       260    ground, nan   \n",
       "4      5       536     water, nan   \n",
       "\n",
       "                                       abilities base_happiness height_m  \\\n",
       "0           ['Guts', 'Sheer Force', 'Iron Fist']           70.0      0.6   \n",
       "1      ['Bulletproof', 'Soundproof', 'Overcoat']           70.0      0.6   \n",
       "2                     ['Corrosion', 'Oblivious']           70.0      1.2   \n",
       "3  ['Rock Head', 'Lightningrod', 'Battle Armor']           70.0      0.4   \n",
       "4                     ['Torrent', 'Sheer Force']           70.0      0.6   \n",
       "\n",
       "  weight_kg is_legendary   HP   Atk   Def    SpA   SpD    Spe  \n",
       "0      12.5            0  nan  80.0  55.0   25.0  35.0   35.0  \n",
       "1      29.7            0  nan   nan  65.0   45.0  45.0   45.0  \n",
       "2      22.2            0  nan  64.0  60.0  111.0  60.0  117.0  \n",
       "3       6.5            0  nan  50.0  95.0   40.0  50.0   35.0  \n",
       "4       9.5            0  nan  65.0  64.0   44.0  48.0   43.0  "
      ]
     },
     "execution_count": 25,
     "metadata": {},
     "output_type": "execute_result"
    }
   ],
   "source": [
    "trainDF.head()"
   ]
  },
  {
   "cell_type": "code",
   "execution_count": 32,
   "metadata": {},
   "outputs": [
    {
     "data": {
      "text/html": [
       "<div>\n",
       "<style scoped>\n",
       "    .dataframe tbody tr th:only-of-type {\n",
       "        vertical-align: middle;\n",
       "    }\n",
       "\n",
       "    .dataframe tbody tr th {\n",
       "        vertical-align: top;\n",
       "    }\n",
       "\n",
       "    .dataframe thead th {\n",
       "        text-align: right;\n",
       "    }\n",
       "</style>\n",
       "<table border=\"1\" class=\"dataframe\">\n",
       "  <thead>\n",
       "    <tr style=\"text-align: right;\">\n",
       "      <th></th>\n",
       "      <th>HP</th>\n",
       "      <th>Atk</th>\n",
       "      <th>Def</th>\n",
       "      <th>SpA</th>\n",
       "      <th>SpD</th>\n",
       "      <th>Spe</th>\n",
       "    </tr>\n",
       "  </thead>\n",
       "  <tbody>\n",
       "    <tr>\n",
       "      <th>0</th>\n",
       "      <td>nan</td>\n",
       "      <td>80.0</td>\n",
       "      <td>55.0</td>\n",
       "      <td>25.0</td>\n",
       "      <td>35.0</td>\n",
       "      <td>35.0</td>\n",
       "    </tr>\n",
       "    <tr>\n",
       "      <th>1</th>\n",
       "      <td>nan</td>\n",
       "      <td>nan</td>\n",
       "      <td>65.0</td>\n",
       "      <td>45.0</td>\n",
       "      <td>45.0</td>\n",
       "      <td>45.0</td>\n",
       "    </tr>\n",
       "    <tr>\n",
       "      <th>2</th>\n",
       "      <td>nan</td>\n",
       "      <td>64.0</td>\n",
       "      <td>60.0</td>\n",
       "      <td>111.0</td>\n",
       "      <td>60.0</td>\n",
       "      <td>117.0</td>\n",
       "    </tr>\n",
       "    <tr>\n",
       "      <th>3</th>\n",
       "      <td>nan</td>\n",
       "      <td>50.0</td>\n",
       "      <td>95.0</td>\n",
       "      <td>40.0</td>\n",
       "      <td>50.0</td>\n",
       "      <td>35.0</td>\n",
       "    </tr>\n",
       "    <tr>\n",
       "      <th>4</th>\n",
       "      <td>nan</td>\n",
       "      <td>65.0</td>\n",
       "      <td>64.0</td>\n",
       "      <td>44.0</td>\n",
       "      <td>48.0</td>\n",
       "      <td>43.0</td>\n",
       "    </tr>\n",
       "  </tbody>\n",
       "</table>\n",
       "</div>"
      ],
      "text/plain": [
       "    HP   Atk   Def    SpA   SpD    Spe\n",
       "0  nan  80.0  55.0   25.0  35.0   35.0\n",
       "1  nan   nan  65.0   45.0  45.0   45.0\n",
       "2  nan  64.0  60.0  111.0  60.0  117.0\n",
       "3  nan  50.0  95.0   40.0  50.0   35.0\n",
       "4  nan  65.0  64.0   44.0  48.0   43.0"
      ]
     },
     "execution_count": 32,
     "metadata": {},
     "output_type": "execute_result"
    }
   ],
   "source": [
    "trainDF1.head()"
   ]
  },
  {
   "cell_type": "code",
   "execution_count": null,
   "metadata": {},
   "outputs": [],
   "source": []
  },
  {
   "cell_type": "code",
   "execution_count": 131,
   "metadata": {},
   "outputs": [],
   "source": [
    "trainDF = trainDF.drop(columns='poke_stats')"
   ]
  },
  {
   "cell_type": "code",
   "execution_count": 139,
   "metadata": {
    "collapsed": true
   },
   "outputs": [
    {
     "data": {
      "text/html": [
       "<div>\n",
       "<style scoped>\n",
       "    .dataframe tbody tr th:only-of-type {\n",
       "        vertical-align: middle;\n",
       "    }\n",
       "\n",
       "    .dataframe tbody tr th {\n",
       "        vertical-align: top;\n",
       "    }\n",
       "\n",
       "    .dataframe thead th {\n",
       "        text-align: right;\n",
       "    }\n",
       "</style>\n",
       "<table border=\"1\" class=\"dataframe\">\n",
       "  <thead>\n",
       "    <tr style=\"text-align: right;\">\n",
       "      <th></th>\n",
       "      <th>rowid</th>\n",
       "      <th>unique_id</th>\n",
       "      <th>types</th>\n",
       "      <th>abilities</th>\n",
       "      <th>base_happiness</th>\n",
       "      <th>height_m</th>\n",
       "      <th>weight_kg</th>\n",
       "      <th>HP</th>\n",
       "      <th>Atk</th>\n",
       "      <th>SpA</th>\n",
       "      <th>SpD</th>\n",
       "      <th>Spe</th>\n",
       "    </tr>\n",
       "  </thead>\n",
       "  <tbody>\n",
       "    <tr>\n",
       "      <th>0</th>\n",
       "      <td>1</td>\n",
       "      <td>665</td>\n",
       "      <td>fighting, nan</td>\n",
       "      <td>['Guts', 'Sheer Force', 'Iron Fist']</td>\n",
       "      <td>70.0</td>\n",
       "      <td>0.6</td>\n",
       "      <td>12.5</td>\n",
       "      <td>nan</td>\n",
       "      <td>134.0</td>\n",
       "      <td>95.0</td>\n",
       "      <td>100.0</td>\n",
       "      <td>100.0</td>\n",
       "    </tr>\n",
       "    <tr>\n",
       "      <th>1</th>\n",
       "      <td>2</td>\n",
       "      <td>288</td>\n",
       "      <td>dragon, nan</td>\n",
       "      <td>['Bulletproof', 'Soundproof', 'Overcoat']</td>\n",
       "      <td>70.0</td>\n",
       "      <td>0.6</td>\n",
       "      <td>29.7</td>\n",
       "      <td>nan</td>\n",
       "      <td>134.0</td>\n",
       "      <td>95.0</td>\n",
       "      <td>100.0</td>\n",
       "      <td>100.0</td>\n",
       "    </tr>\n",
       "    <tr>\n",
       "      <th>2</th>\n",
       "      <td>3</td>\n",
       "      <td>349</td>\n",
       "      <td>poison, fire</td>\n",
       "      <td>['Corrosion', 'Oblivious']</td>\n",
       "      <td>70.0</td>\n",
       "      <td>1.2</td>\n",
       "      <td>22.2</td>\n",
       "      <td>nan</td>\n",
       "      <td>134.0</td>\n",
       "      <td>95.0</td>\n",
       "      <td>100.0</td>\n",
       "      <td>100.0</td>\n",
       "    </tr>\n",
       "    <tr>\n",
       "      <th>3</th>\n",
       "      <td>4</td>\n",
       "      <td>260</td>\n",
       "      <td>ground, nan</td>\n",
       "      <td>['Rock Head', 'Lightningrod', 'Battle Armor']</td>\n",
       "      <td>70.0</td>\n",
       "      <td>0.4</td>\n",
       "      <td>6.5</td>\n",
       "      <td>nan</td>\n",
       "      <td>134.0</td>\n",
       "      <td>95.0</td>\n",
       "      <td>100.0</td>\n",
       "      <td>100.0</td>\n",
       "    </tr>\n",
       "    <tr>\n",
       "      <th>4</th>\n",
       "      <td>5</td>\n",
       "      <td>536</td>\n",
       "      <td>water, nan</td>\n",
       "      <td>['Torrent', 'Sheer Force']</td>\n",
       "      <td>70.0</td>\n",
       "      <td>0.6</td>\n",
       "      <td>9.5</td>\n",
       "      <td>nan</td>\n",
       "      <td>134.0</td>\n",
       "      <td>95.0</td>\n",
       "      <td>100.0</td>\n",
       "      <td>100.0</td>\n",
       "    </tr>\n",
       "  </tbody>\n",
       "</table>\n",
       "</div>"
      ],
      "text/plain": [
       "   rowid unique_id          types  \\\n",
       "0      1       665  fighting, nan   \n",
       "1      2       288    dragon, nan   \n",
       "2      3       349   poison, fire   \n",
       "3      4       260    ground, nan   \n",
       "4      5       536     water, nan   \n",
       "\n",
       "                                       abilities base_happiness height_m  \\\n",
       "0           ['Guts', 'Sheer Force', 'Iron Fist']           70.0      0.6   \n",
       "1      ['Bulletproof', 'Soundproof', 'Overcoat']           70.0      0.6   \n",
       "2                     ['Corrosion', 'Oblivious']           70.0      1.2   \n",
       "3  ['Rock Head', 'Lightningrod', 'Battle Armor']           70.0      0.4   \n",
       "4                     ['Torrent', 'Sheer Force']           70.0      0.6   \n",
       "\n",
       "  weight_kg   HP    Atk   SpA    SpD    Spe  \n",
       "0      12.5  nan  134.0  95.0  100.0  100.0  \n",
       "1      29.7  nan  134.0  95.0  100.0  100.0  \n",
       "2      22.2  nan  134.0  95.0  100.0  100.0  \n",
       "3       6.5  nan  134.0  95.0  100.0  100.0  \n",
       "4       9.5  nan  134.0  95.0  100.0  100.0  "
      ]
     },
     "execution_count": 139,
     "metadata": {},
     "output_type": "execute_result"
    }
   ],
   "source": []
  },
  {
   "cell_type": "code",
   "execution_count": 142,
   "metadata": {},
   "outputs": [
    {
     "data": {
      "text/plain": [
       "pandas.core.series.Series"
      ]
     },
     "execution_count": 142,
     "metadata": {},
     "output_type": "execute_result"
    }
   ],
   "source": [
    "abilities = trainDF['abilities']\n",
    "type(abilities)"
   ]
  },
  {
   "cell_type": "code",
   "execution_count": 146,
   "metadata": {},
   "outputs": [
    {
     "data": {
      "text/plain": [
       "0     nan\n",
       "1     nan\n",
       "2     nan\n",
       "3     nan\n",
       "4     nan\n",
       "5     nan\n",
       "6     nan\n",
       "7     nan\n",
       "8     nan\n",
       "9     nan\n",
       "10    nan\n",
       "11    nan\n",
       "12    nan\n",
       "13    nan\n",
       "14    nan\n",
       "15    nan\n",
       "16    nan\n",
       "17    nan\n",
       "18    nan\n",
       "19    nan\n",
       "20    nan\n",
       "21    nan\n",
       "22    nan\n",
       "23    nan\n",
       "24    nan\n",
       "25    nan\n",
       "26    nan\n",
       "27    nan\n",
       "28    nan\n",
       "29    nan\n",
       "30    nan\n",
       "31    nan\n",
       "32    nan\n",
       "33    nan\n",
       "34    nan\n",
       "35    nan\n",
       "36    nan\n",
       "37    nan\n",
       "38    nan\n",
       "39    nan\n",
       "40    nan\n",
       "41    nan\n",
       "42    nan\n",
       "43    nan\n",
       "44    nan\n",
       "45    nan\n",
       "46    nan\n",
       "47    nan\n",
       "48    nan\n",
       "49    nan\n",
       "Name: HP, dtype: object"
      ]
     },
     "execution_count": 146,
     "metadata": {},
     "output_type": "execute_result"
    }
   ],
   "source": [
    "trainDF.HP[:50]"
   ]
  },
  {
   "cell_type": "code",
   "execution_count": 45,
   "metadata": {},
   "outputs": [
    {
     "data": {
      "text/plain": [
       "rowid             False\n",
       "unique_id         False\n",
       "types             False\n",
       "abilities         False\n",
       "base_happiness     True\n",
       "height_m           True\n",
       "weight_kg          True\n",
       "poke_stats        False\n",
       "dtype: bool"
      ]
     },
     "execution_count": 45,
     "metadata": {},
     "output_type": "execute_result"
    }
   ],
   "source": [
    "trainDF.isna().any()"
   ]
  },
  {
   "cell_type": "code",
   "execution_count": 41,
   "metadata": {},
   "outputs": [
    {
     "ename": "AttributeError",
     "evalue": "'numpy.ndarray' object has no attribute 'info'",
     "output_type": "error",
     "traceback": [
      "\u001b[0;31m--------------------------\u001b[0m",
      "\u001b[0;31mAttributeError\u001b[0mTraceback (most recent call last)",
      "\u001b[0;32m<ipython-input-41-dcee170437a6>\u001b[0m in \u001b[0;36m<module>\u001b[0;34m\u001b[0m\n\u001b[0;32m----> 1\u001b[0;31m \u001b[0mabi\u001b[0m\u001b[0;34m.\u001b[0m\u001b[0minfo\u001b[0m\u001b[0;34m\u001b[0m\u001b[0;34m\u001b[0m\u001b[0m\n\u001b[0m",
      "\u001b[0;31mAttributeError\u001b[0m: 'numpy.ndarray' object has no attribute 'info'"
     ]
    }
   ],
   "source": []
  },
  {
   "cell_type": "code",
   "execution_count": null,
   "metadata": {},
   "outputs": [],
   "source": []
  }
 ],
 "metadata": {
  "kernelspec": {
   "display_name": "Python 3",
   "language": "python",
   "name": "python3"
  },
  "language_info": {
   "codemirror_mode": {
    "name": "ipython",
    "version": 3
   },
   "file_extension": ".py",
   "mimetype": "text/x-python",
   "name": "python",
   "nbconvert_exporter": "python",
   "pygments_lexer": "ipython3",
   "version": "3.7.0"
  }
 },
 "nbformat": 4,
 "nbformat_minor": 2
}
