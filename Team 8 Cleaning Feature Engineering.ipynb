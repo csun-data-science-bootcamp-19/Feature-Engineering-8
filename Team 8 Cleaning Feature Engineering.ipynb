{
 "cells": [
  {
   "cell_type": "markdown",
   "metadata": {},
   "source": [
    "# Cleaning"
   ]
  },
  {
   "cell_type": "markdown",
   "metadata": {},
   "source": [
    "#### NA's (or NaNs) as value\n",
    "1. **Alley:** Type of alley access to property\n",
    "2. **BsmtQual:** Evaluates the height of the basement\n",
    "3. **BsmtCond:** Evaluates the general condition of the basement\n",
    "4. **BsmtExposure:** Refers to walkout or garden level walls\n",
    "5. **BsmtFinType1:** Rating of basement finished area\n",
    "6. **BsmtFinType2:** Rating of basement finished area (if multiple types)*\n",
    "7. **FireplaceQu:** Fireplace quality\n",
    "8. **GarageType:** Garage location\n",
    "9. **GarageFinish:** Interior finish of the garage\n",
    "10. **GarageQual:** Garage quality\n",
    "11. **GarageCond:** Garage condition\n",
    "12. **PoolQC:** Pool quality (Biggest of the above)\n",
    "13. **Fence:** Fence quality\n",
    "14. **MiscFeature:** Miscellaneous feature not covered in other categories\n",
    "\n",
    "##### The two below are listed as None in description, but NA in dataset\n",
    "* MasVnrArea: Masonry veneer type\n",
    "* MasVnrType: Masonry veneer area in square feet\n",
    "\n",
    "##### Others\n",
    "* LotFrontage: Maybe set to NA if there is no street connected to property?\n",
    "* GarageYrBlt: Set to NA if the above Garage attributes are set as NA\n",
    "\n",
    "* Electrical: Electrical system. There is only one property with a missing data in Electrical. At row 1381\n"
   ]
  },
  {
   "cell_type": "code",
   "execution_count": 175,
   "metadata": {},
   "outputs": [],
   "source": [
    "import pandas as pd\n",
    "import numpy as np\n",
    "import matplotlib.pyplot as plt\n",
    "import copy\n",
    "%matplotlib inline"
   ]
  },
  {
   "cell_type": "code",
   "execution_count": null,
   "metadata": {},
   "outputs": [],
   "source": []
  },
  {
   "cell_type": "code",
   "execution_count": 176,
   "metadata": {},
   "outputs": [
    {
     "name": "stdout",
     "output_type": "stream",
     "text": [
      "(1460, 81) (1459, 80) total[0] = 2919\n"
     ]
    }
   ],
   "source": [
    "train = pd.read_csv('train.csv')\n",
    "test = pd.read_csv('test.csv')\n",
    "print(train.shape, test.shape, \"total[0] =\",test.shape[0]+train.shape[0])"
   ]
  },
  {
   "cell_type": "code",
   "execution_count": 177,
   "metadata": {},
   "outputs": [
    {
     "data": {
      "text/plain": [
       "1460"
      ]
     },
     "execution_count": 177,
     "metadata": {},
     "output_type": "execute_result"
    }
   ],
   "source": [
    "border = train.shape[0]\n",
    "border"
   ]
  },
  {
   "cell_type": "code",
   "execution_count": 178,
   "metadata": {},
   "outputs": [
    {
     "name": "stderr",
     "output_type": "stream",
     "text": [
      "C:\\Program Files (x86)\\Microsoft Visual Studio\\Shared\\Anaconda3_64\\lib\\site-packages\\ipykernel_launcher.py:1: FutureWarning: Sorting because non-concatenation axis is not aligned. A future version\n",
      "of pandas will change to not sort by default.\n",
      "\n",
      "To accept the future behavior, pass 'sort=True'.\n",
      "\n",
      "To retain the current behavior and silence the warning, pass sort=False\n",
      "\n",
      "  \"\"\"Entry point for launching an IPython kernel.\n"
     ]
    },
    {
     "data": {
      "text/plain": [
       "(2919, 81)"
      ]
     },
     "execution_count": 178,
     "metadata": {},
     "output_type": "execute_result"
    }
   ],
   "source": [
    "DFc = pd.concat([train, test],ignore_index=True)\n",
    "DFc.shape"
   ]
  },
  {
   "cell_type": "code",
   "execution_count": 179,
   "metadata": {},
   "outputs": [
    {
     "data": {
      "text/html": [
       "<div>\n",
       "<style scoped>\n",
       "    .dataframe tbody tr th:only-of-type {\n",
       "        vertical-align: middle;\n",
       "    }\n",
       "\n",
       "    .dataframe tbody tr th {\n",
       "        vertical-align: top;\n",
       "    }\n",
       "\n",
       "    .dataframe thead th {\n",
       "        text-align: right;\n",
       "    }\n",
       "</style>\n",
       "<table border=\"1\" class=\"dataframe\">\n",
       "  <thead>\n",
       "    <tr style=\"text-align: right;\">\n",
       "      <th></th>\n",
       "      <th>1stFlrSF</th>\n",
       "      <th>2ndFlrSF</th>\n",
       "      <th>3SsnPorch</th>\n",
       "      <th>Alley</th>\n",
       "      <th>BedroomAbvGr</th>\n",
       "      <th>BldgType</th>\n",
       "      <th>BsmtCond</th>\n",
       "      <th>BsmtExposure</th>\n",
       "      <th>BsmtFinSF1</th>\n",
       "      <th>BsmtFinSF2</th>\n",
       "      <th>...</th>\n",
       "      <th>SaleType</th>\n",
       "      <th>ScreenPorch</th>\n",
       "      <th>Street</th>\n",
       "      <th>TotRmsAbvGrd</th>\n",
       "      <th>TotalBsmtSF</th>\n",
       "      <th>Utilities</th>\n",
       "      <th>WoodDeckSF</th>\n",
       "      <th>YearBuilt</th>\n",
       "      <th>YearRemodAdd</th>\n",
       "      <th>YrSold</th>\n",
       "    </tr>\n",
       "  </thead>\n",
       "  <tbody>\n",
       "    <tr>\n",
       "      <th>1458</th>\n",
       "      <td>1078</td>\n",
       "      <td>0</td>\n",
       "      <td>0</td>\n",
       "      <td>NaN</td>\n",
       "      <td>2</td>\n",
       "      <td>1Fam</td>\n",
       "      <td>TA</td>\n",
       "      <td>Mn</td>\n",
       "      <td>49.0</td>\n",
       "      <td>1029.0</td>\n",
       "      <td>...</td>\n",
       "      <td>WD</td>\n",
       "      <td>0</td>\n",
       "      <td>Pave</td>\n",
       "      <td>5</td>\n",
       "      <td>1078.0</td>\n",
       "      <td>AllPub</td>\n",
       "      <td>366</td>\n",
       "      <td>1950</td>\n",
       "      <td>1996</td>\n",
       "      <td>2010</td>\n",
       "    </tr>\n",
       "    <tr>\n",
       "      <th>1459</th>\n",
       "      <td>1256</td>\n",
       "      <td>0</td>\n",
       "      <td>0</td>\n",
       "      <td>NaN</td>\n",
       "      <td>3</td>\n",
       "      <td>1Fam</td>\n",
       "      <td>TA</td>\n",
       "      <td>No</td>\n",
       "      <td>830.0</td>\n",
       "      <td>290.0</td>\n",
       "      <td>...</td>\n",
       "      <td>WD</td>\n",
       "      <td>0</td>\n",
       "      <td>Pave</td>\n",
       "      <td>6</td>\n",
       "      <td>1256.0</td>\n",
       "      <td>AllPub</td>\n",
       "      <td>736</td>\n",
       "      <td>1965</td>\n",
       "      <td>1965</td>\n",
       "      <td>2008</td>\n",
       "    </tr>\n",
       "    <tr>\n",
       "      <th>1460</th>\n",
       "      <td>896</td>\n",
       "      <td>0</td>\n",
       "      <td>0</td>\n",
       "      <td>NaN</td>\n",
       "      <td>2</td>\n",
       "      <td>1Fam</td>\n",
       "      <td>TA</td>\n",
       "      <td>No</td>\n",
       "      <td>468.0</td>\n",
       "      <td>144.0</td>\n",
       "      <td>...</td>\n",
       "      <td>WD</td>\n",
       "      <td>120</td>\n",
       "      <td>Pave</td>\n",
       "      <td>5</td>\n",
       "      <td>882.0</td>\n",
       "      <td>AllPub</td>\n",
       "      <td>140</td>\n",
       "      <td>1961</td>\n",
       "      <td>1961</td>\n",
       "      <td>2010</td>\n",
       "    </tr>\n",
       "    <tr>\n",
       "      <th>1461</th>\n",
       "      <td>1329</td>\n",
       "      <td>0</td>\n",
       "      <td>0</td>\n",
       "      <td>NaN</td>\n",
       "      <td>3</td>\n",
       "      <td>1Fam</td>\n",
       "      <td>TA</td>\n",
       "      <td>No</td>\n",
       "      <td>923.0</td>\n",
       "      <td>0.0</td>\n",
       "      <td>...</td>\n",
       "      <td>WD</td>\n",
       "      <td>0</td>\n",
       "      <td>Pave</td>\n",
       "      <td>6</td>\n",
       "      <td>1329.0</td>\n",
       "      <td>AllPub</td>\n",
       "      <td>393</td>\n",
       "      <td>1958</td>\n",
       "      <td>1958</td>\n",
       "      <td>2010</td>\n",
       "    </tr>\n",
       "  </tbody>\n",
       "</table>\n",
       "<p>4 rows × 81 columns</p>\n",
       "</div>"
      ],
      "text/plain": [
       "      1stFlrSF  2ndFlrSF  3SsnPorch Alley  BedroomAbvGr BldgType BsmtCond  \\\n",
       "1458      1078         0          0   NaN             2     1Fam       TA   \n",
       "1459      1256         0          0   NaN             3     1Fam       TA   \n",
       "1460       896         0          0   NaN             2     1Fam       TA   \n",
       "1461      1329         0          0   NaN             3     1Fam       TA   \n",
       "\n",
       "     BsmtExposure  BsmtFinSF1  BsmtFinSF2  ...   SaleType ScreenPorch  Street  \\\n",
       "1458           Mn        49.0      1029.0  ...         WD           0    Pave   \n",
       "1459           No       830.0       290.0  ...         WD           0    Pave   \n",
       "1460           No       468.0       144.0  ...         WD         120    Pave   \n",
       "1461           No       923.0         0.0  ...         WD           0    Pave   \n",
       "\n",
       "      TotRmsAbvGrd TotalBsmtSF  Utilities WoodDeckSF YearBuilt YearRemodAdd  \\\n",
       "1458             5      1078.0     AllPub        366      1950         1996   \n",
       "1459             6      1256.0     AllPub        736      1965         1965   \n",
       "1460             5       882.0     AllPub        140      1961         1961   \n",
       "1461             6      1329.0     AllPub        393      1958         1958   \n",
       "\n",
       "     YrSold  \n",
       "1458   2010  \n",
       "1459   2008  \n",
       "1460   2010  \n",
       "1461   2010  \n",
       "\n",
       "[4 rows x 81 columns]"
      ]
     },
     "execution_count": 179,
     "metadata": {},
     "output_type": "execute_result"
    }
   ],
   "source": [
    "DFc.iloc[border-2:border+2, :]"
   ]
  },
  {
   "cell_type": "code",
   "execution_count": 180,
   "metadata": {},
   "outputs": [],
   "source": [
    "DFc = DFc.drop(columns=['LotShape', 'GarageYrBlt'])"
   ]
  },
  {
   "cell_type": "code",
   "execution_count": 181,
   "metadata": {},
   "outputs": [],
   "source": [
    "def summary_missing_data(data):\n",
    "    total = data.isnull().sum().sort_values(ascending=False)\n",
    "    percent = (data.isnull().sum()/data.isnull().count()).sort_values(ascending=False)\n",
    "    missing_data = pd.concat([total, percent], axis=1, keys=['Total', 'Percent'])\n",
    "    return missing_data"
   ]
  },
  {
   "cell_type": "code",
   "execution_count": 182,
   "metadata": {},
   "outputs": [
    {
     "name": "stdout",
     "output_type": "stream",
     "text": [
      "               Total   Percent\n",
      "PoolQC          2909  0.996574\n",
      "MiscFeature     2814  0.964029\n",
      "Alley           2721  0.932169\n",
      "Fence           2348  0.804385\n",
      "SalePrice       1459  0.499829\n",
      "FireplaceQu     1420  0.486468\n",
      "LotFrontage      486  0.166495\n",
      "GarageCond       159  0.054471\n",
      "GarageFinish     159  0.054471\n",
      "GarageQual       159  0.054471\n",
      "GarageType       157  0.053786\n",
      "BsmtCond          82  0.028092\n",
      "BsmtExposure      82  0.028092\n",
      "BsmtQual          81  0.027749\n",
      "BsmtFinType2      80  0.027407\n",
      "BsmtFinType1      79  0.027064\n",
      "MasVnrType        24  0.008222\n",
      "MasVnrArea        23  0.007879\n",
      "MSZoning           4  0.001370\n",
      "BsmtFullBath       2  0.000685\n",
      "BsmtHalfBath       2  0.000685\n",
      "Utilities          2  0.000685\n",
      "Functional         2  0.000685\n",
      "Exterior2nd        1  0.000343\n",
      "Exterior1st        1  0.000343\n",
      "KitchenQual        1  0.000343\n",
      "GarageCars         1  0.000343\n",
      "Electrical         1  0.000343\n",
      "GarageArea         1  0.000343\n",
      "SaleType           1  0.000343\n",
      "...              ...       ...\n",
      "GrLivArea          0  0.000000\n",
      "HalfBath           0  0.000000\n",
      "YearBuilt          0  0.000000\n",
      "WoodDeckSF         0  0.000000\n",
      "TotRmsAbvGrd       0  0.000000\n",
      "Street             0  0.000000\n",
      "ScreenPorch        0  0.000000\n",
      "SaleCondition      0  0.000000\n",
      "RoofStyle          0  0.000000\n",
      "RoofMatl           0  0.000000\n",
      "PoolArea           0  0.000000\n",
      "PavedDrive         0  0.000000\n",
      "OverallQual        0  0.000000\n",
      "OverallCond        0  0.000000\n",
      "OpenPorchSF        0  0.000000\n",
      "Neighborhood       0  0.000000\n",
      "MoSold             0  0.000000\n",
      "MiscVal            0  0.000000\n",
      "MSSubClass         0  0.000000\n",
      "LowQualFinSF       0  0.000000\n",
      "LotConfig          0  0.000000\n",
      "LotArea            0  0.000000\n",
      "LandSlope          0  0.000000\n",
      "LandContour        0  0.000000\n",
      "KitchenAbvGr       0  0.000000\n",
      "Id                 0  0.000000\n",
      "HouseStyle         0  0.000000\n",
      "HeatingQC          0  0.000000\n",
      "YearRemodAdd       0  0.000000\n",
      "1stFlrSF           0  0.000000\n",
      "\n",
      "[79 rows x 2 columns]\n"
     ]
    }
   ],
   "source": [
    "missing_data = summary_missing_data(DFc)\n",
    "print(missing_data)"
   ]
  },
  {
   "cell_type": "code",
   "execution_count": 183,
   "metadata": {},
   "outputs": [],
   "source": [
    "atts = pd.read_csv('attributes.csv')"
   ]
  },
  {
   "cell_type": "code",
   "execution_count": 184,
   "metadata": {},
   "outputs": [],
   "source": [
    "for i in range(0, len(atts)):\n",
    "    if atts.iloc[i]['Type']=='Categorical':\n",
    "        col_name=atts.iloc[i]['Attribute']\n",
    "        DFc[col_name].fillna('None', inplace=True)\n",
    "        DFc=pd.get_dummies(DFc, columns=[col_name])"
   ]
  },
  {
   "cell_type": "markdown",
   "metadata": {},
   "source": [
    "for value in ((missing_data[missing_data['Total'] < 50]).index):\n",
    "    DFc = DFc.drop(DFc.loc[DFc[value].isnull()].index)\n",
    "summary_missing_data(DFc,17)"
   ]
  },
  {
   "cell_type": "code",
   "execution_count": 185,
   "metadata": {},
   "outputs": [
    {
     "data": {
      "text/html": [
       "<div>\n",
       "<style scoped>\n",
       "    .dataframe tbody tr th:only-of-type {\n",
       "        vertical-align: middle;\n",
       "    }\n",
       "\n",
       "    .dataframe tbody tr th {\n",
       "        vertical-align: top;\n",
       "    }\n",
       "\n",
       "    .dataframe thead th {\n",
       "        text-align: right;\n",
       "    }\n",
       "</style>\n",
       "<table border=\"1\" class=\"dataframe\">\n",
       "  <thead>\n",
       "    <tr style=\"text-align: right;\">\n",
       "      <th></th>\n",
       "      <th>Total</th>\n",
       "      <th>Percent</th>\n",
       "    </tr>\n",
       "  </thead>\n",
       "  <tbody>\n",
       "    <tr>\n",
       "      <th>LotFrontage</th>\n",
       "      <td>486</td>\n",
       "      <td>0.166495</td>\n",
       "    </tr>\n",
       "    <tr>\n",
       "      <th>MasVnrArea</th>\n",
       "      <td>23</td>\n",
       "      <td>0.007879</td>\n",
       "    </tr>\n",
       "    <tr>\n",
       "      <th>BsmtFullBath</th>\n",
       "      <td>2</td>\n",
       "      <td>0.000685</td>\n",
       "    </tr>\n",
       "    <tr>\n",
       "      <th>BsmtHalfBath</th>\n",
       "      <td>2</td>\n",
       "      <td>0.000685</td>\n",
       "    </tr>\n",
       "    <tr>\n",
       "      <th>BsmtUnfSF</th>\n",
       "      <td>1</td>\n",
       "      <td>0.000343</td>\n",
       "    </tr>\n",
       "    <tr>\n",
       "      <th>GarageArea</th>\n",
       "      <td>1</td>\n",
       "      <td>0.000343</td>\n",
       "    </tr>\n",
       "    <tr>\n",
       "      <th>TotalBsmtSF</th>\n",
       "      <td>1</td>\n",
       "      <td>0.000343</td>\n",
       "    </tr>\n",
       "    <tr>\n",
       "      <th>BsmtFinSF1</th>\n",
       "      <td>1</td>\n",
       "      <td>0.000343</td>\n",
       "    </tr>\n",
       "    <tr>\n",
       "      <th>BsmtFinSF2</th>\n",
       "      <td>1</td>\n",
       "      <td>0.000343</td>\n",
       "    </tr>\n",
       "    <tr>\n",
       "      <th>GarageCars</th>\n",
       "      <td>1</td>\n",
       "      <td>0.000343</td>\n",
       "    </tr>\n",
       "    <tr>\n",
       "      <th>HouseStyle_SLvl</th>\n",
       "      <td>0</td>\n",
       "      <td>0.000000</td>\n",
       "    </tr>\n",
       "  </tbody>\n",
       "</table>\n",
       "</div>"
      ],
      "text/plain": [
       "                 Total   Percent\n",
       "LotFrontage        486  0.166495\n",
       "MasVnrArea          23  0.007879\n",
       "BsmtFullBath         2  0.000685\n",
       "BsmtHalfBath         2  0.000685\n",
       "BsmtUnfSF            1  0.000343\n",
       "GarageArea           1  0.000343\n",
       "TotalBsmtSF          1  0.000343\n",
       "BsmtFinSF1           1  0.000343\n",
       "BsmtFinSF2           1  0.000343\n",
       "GarageCars           1  0.000343\n",
       "HouseStyle_SLvl      0  0.000000"
      ]
     },
     "execution_count": 185,
     "metadata": {},
     "output_type": "execute_result"
    }
   ],
   "source": [
    "summary_missing_data(DFc.drop(columns=['SalePrice'])).head(11)"
   ]
  },
  {
   "cell_type": "markdown",
   "metadata": {},
   "source": [
    "#### Manually filled in some missing values with modes"
   ]
  },
  {
   "cell_type": "code",
   "execution_count": 186,
   "metadata": {},
   "outputs": [],
   "source": [
    "DFc['LotFrontage'].fillna(float(DFc['LotFrontage'].mode()), inplace=True)\n",
    "DFc['MasVnrArea'].fillna(float(DFc['MasVnrArea'].mode()), inplace=True)\n",
    "DFc['BsmtFullBath'].fillna(float(DFc['BsmtFullBath'].mode()), inplace=True)\n",
    "DFc['BsmtHalfBath'].fillna(float(DFc['BsmtHalfBath'].mode()), inplace=True)\n",
    "DFc['BsmtUnfSF'].fillna(float(DFc['BsmtUnfSF'].mode()), inplace=True)\n",
    "DFc['GarageArea'].fillna(float(DFc['GarageArea'].mode()), inplace=True)\n",
    "DFc['TotalBsmtSF'].fillna(float(DFc['TotalBsmtSF'].mode()), inplace=True)\n",
    "DFc['BsmtFinSF1'].fillna(float(DFc['BsmtFinSF1'].mode()), inplace=True)\n",
    "DFc['BsmtFinSF2'].fillna(float(DFc['BsmtFinSF2'].mode()), inplace=True)\n",
    "DFc['GarageCars'].fillna(float(DFc['GarageCars'].mode()), inplace=True)"
   ]
  },
  {
   "cell_type": "code",
   "execution_count": 187,
   "metadata": {},
   "outputs": [
    {
     "data": {
      "text/html": [
       "<div>\n",
       "<style scoped>\n",
       "    .dataframe tbody tr th:only-of-type {\n",
       "        vertical-align: middle;\n",
       "    }\n",
       "\n",
       "    .dataframe tbody tr th {\n",
       "        vertical-align: top;\n",
       "    }\n",
       "\n",
       "    .dataframe thead th {\n",
       "        text-align: right;\n",
       "    }\n",
       "</style>\n",
       "<table border=\"1\" class=\"dataframe\">\n",
       "  <thead>\n",
       "    <tr style=\"text-align: right;\">\n",
       "      <th></th>\n",
       "      <th>Total</th>\n",
       "      <th>Percent</th>\n",
       "    </tr>\n",
       "  </thead>\n",
       "  <tbody>\n",
       "    <tr>\n",
       "      <th>SaleCondition_Partial</th>\n",
       "      <td>0</td>\n",
       "      <td>0.0</td>\n",
       "    </tr>\n",
       "    <tr>\n",
       "      <th>HouseStyle_SFoyer</th>\n",
       "      <td>0</td>\n",
       "      <td>0.0</td>\n",
       "    </tr>\n",
       "    <tr>\n",
       "      <th>BldgType_Duplex</th>\n",
       "      <td>0</td>\n",
       "      <td>0.0</td>\n",
       "    </tr>\n",
       "    <tr>\n",
       "      <th>BldgType_Twnhs</th>\n",
       "      <td>0</td>\n",
       "      <td>0.0</td>\n",
       "    </tr>\n",
       "    <tr>\n",
       "      <th>BldgType_TwnhsE</th>\n",
       "      <td>0</td>\n",
       "      <td>0.0</td>\n",
       "    </tr>\n",
       "    <tr>\n",
       "      <th>HouseStyle_1.5Fin</th>\n",
       "      <td>0</td>\n",
       "      <td>0.0</td>\n",
       "    </tr>\n",
       "    <tr>\n",
       "      <th>HouseStyle_1.5Unf</th>\n",
       "      <td>0</td>\n",
       "      <td>0.0</td>\n",
       "    </tr>\n",
       "    <tr>\n",
       "      <th>HouseStyle_1Story</th>\n",
       "      <td>0</td>\n",
       "      <td>0.0</td>\n",
       "    </tr>\n",
       "    <tr>\n",
       "      <th>HouseStyle_2.5Fin</th>\n",
       "      <td>0</td>\n",
       "      <td>0.0</td>\n",
       "    </tr>\n",
       "    <tr>\n",
       "      <th>HouseStyle_2.5Unf</th>\n",
       "      <td>0</td>\n",
       "      <td>0.0</td>\n",
       "    </tr>\n",
       "    <tr>\n",
       "      <th>HouseStyle_2Story</th>\n",
       "      <td>0</td>\n",
       "      <td>0.0</td>\n",
       "    </tr>\n",
       "  </tbody>\n",
       "</table>\n",
       "</div>"
      ],
      "text/plain": [
       "                       Total  Percent\n",
       "SaleCondition_Partial      0      0.0\n",
       "HouseStyle_SFoyer          0      0.0\n",
       "BldgType_Duplex            0      0.0\n",
       "BldgType_Twnhs             0      0.0\n",
       "BldgType_TwnhsE            0      0.0\n",
       "HouseStyle_1.5Fin          0      0.0\n",
       "HouseStyle_1.5Unf          0      0.0\n",
       "HouseStyle_1Story          0      0.0\n",
       "HouseStyle_2.5Fin          0      0.0\n",
       "HouseStyle_2.5Unf          0      0.0\n",
       "HouseStyle_2Story          0      0.0"
      ]
     },
     "execution_count": 187,
     "metadata": {},
     "output_type": "execute_result"
    }
   ],
   "source": [
    "summary_missing_data(DFc.drop(columns=['SalePrice'])).head(11)"
   ]
  },
  {
   "cell_type": "code",
   "execution_count": 188,
   "metadata": {},
   "outputs": [
    {
     "name": "stdout",
     "output_type": "stream",
     "text": [
      "(1460, 376)\n",
      "(1459, 375)\n"
     ]
    }
   ],
   "source": [
    "DFtrain = DFc.iloc[0:border,:]\n",
    "print(DFtrain.shape)\n",
    "DFtest = DFc.iloc[border:,:]\n",
    "DFtest = DFtest.drop(columns=['SalePrice'])\n",
    "print(DFtest.shape)"
   ]
  },
  {
   "cell_type": "code",
   "execution_count": 189,
   "metadata": {},
   "outputs": [],
   "source": [
    "DFtrain.to_csv('trainer.csv', index=False)\n",
    "DFtest.to_csv('tester.csv', index=False)"
   ]
  },
  {
   "cell_type": "markdown",
   "metadata": {},
   "source": [
    "# Modeling"
   ]
  },
  {
   "cell_type": "markdown",
   "metadata": {},
   "source": [
    "Was going to get ready for PCA stuff below"
   ]
  },
  {
   "cell_type": "code",
   "execution_count": 190,
   "metadata": {},
   "outputs": [],
   "source": [
    "from sklearn.preprocessing import StandardScaler\n",
    "from sklearn.decomposition import PCA"
   ]
  },
  {
   "cell_type": "code",
   "execution_count": 191,
   "metadata": {
    "scrolled": true
   },
   "outputs": [],
   "source": [
    "X = DFtrain.drop(columns=['Id', 'SalePrice'])\n",
    "Y = DFtrain['SalePrice']\n",
    "Xt = DFtest.drop(columns=['Id'])"
   ]
  },
  {
   "cell_type": "markdown",
   "metadata": {},
   "source": [
    "##### Scaling, otherwise we will just see one component!"
   ]
  },
  {
   "cell_type": "code",
   "execution_count": 192,
   "metadata": {},
   "outputs": [],
   "source": [
    "scaler = StandardScaler()\n",
    "scaler.fit(X)\n",
    "X = scaler.transform(X)\n",
    "Xt = scaler.transform(Xt)"
   ]
  },
  {
   "cell_type": "code",
   "execution_count": 193,
   "metadata": {},
   "outputs": [],
   "source": [
    "Xcopy  = X\n",
    "Ycopy  = Y\n",
    "Xtcopy = Xt"
   ]
  },
  {
   "cell_type": "code",
   "execution_count": 194,
   "metadata": {},
   "outputs": [],
   "source": [
    "pca = PCA(5)"
   ]
  },
  {
   "cell_type": "code",
   "execution_count": 195,
   "metadata": {},
   "outputs": [
    {
     "data": {
      "text/plain": [
       "PCA(copy=True, iterated_power='auto', n_components=5, random_state=None,\n",
       "  svd_solver='auto', tol=0.0, whiten=False)"
      ]
     },
     "execution_count": 195,
     "metadata": {},
     "output_type": "execute_result"
    }
   ],
   "source": [
    "pca.fit(X)"
   ]
  },
  {
   "cell_type": "code",
   "execution_count": 196,
   "metadata": {},
   "outputs": [
    {
     "data": {
      "text/plain": [
       "5"
      ]
     },
     "execution_count": 196,
     "metadata": {},
     "output_type": "execute_result"
    }
   ],
   "source": [
    "pca.n_components_"
   ]
  },
  {
   "cell_type": "code",
   "execution_count": 197,
   "metadata": {},
   "outputs": [],
   "source": [
    "X = pca.transform(X)\n",
    "Xt = pca.transform(Xt)"
   ]
  },
  {
   "cell_type": "code",
   "execution_count": 198,
   "metadata": {},
   "outputs": [
    {
     "data": {
      "text/plain": [
       "((1460, 5), (1459, 5), (1460,))"
      ]
     },
     "execution_count": 198,
     "metadata": {},
     "output_type": "execute_result"
    }
   ],
   "source": [
    "X.shape, Xt.shape, Y.shape"
   ]
  },
  {
   "cell_type": "markdown",
   "metadata": {},
   "source": [
    "## Linear Regression"
   ]
  },
  {
   "cell_type": "code",
   "execution_count": 199,
   "metadata": {},
   "outputs": [],
   "source": [
    "from sklearn.linear_model import LinearRegression\n",
    "from sklearn.metrics import mean_squared_error, r2_score"
   ]
  },
  {
   "cell_type": "code",
   "execution_count": 200,
   "metadata": {},
   "outputs": [],
   "source": [
    "from sklearn.model_selection import train_test_split\n",
    "from sklearn.metrics import accuracy_score"
   ]
  },
  {
   "cell_type": "code",
   "execution_count": 201,
   "metadata": {},
   "outputs": [
    {
     "name": "stdout",
     "output_type": "stream",
     "text": [
      "0.7866504333174228 1209913494.2356231\n"
     ]
    }
   ],
   "source": [
    "XTRAIN, XTEST, YTRAIN, YTEST=train_test_split(X,Y)\n",
    "r=LinearRegression().fit(XTRAIN,YTRAIN)\n",
    "P=r.predict(XTEST)\n",
    "R2=r2_score(YTEST,P)\n",
    "MSE = mean_squared_error(YTEST,P)\n",
    "print(R2,MSE)"
   ]
  },
  {
   "cell_type": "code",
   "execution_count": 202,
   "metadata": {},
   "outputs": [],
   "source": [
    "errs=[]\n",
    "for i in range(100):\n",
    "    XTRAIN, XTEST, YTRAIN, YTEST=train_test_split(X,Y)\n",
    "    r=LinearRegression().fit(XTRAIN,YTRAIN)\n",
    "    P=r.predict(XTEST)\n",
    "    R2=r2_score(YTEST,P)\n",
    "    #MSE = mean_squared_error(YTEST,P)\n",
    "    #print(R2,MSE)\n",
    "    errs.append(1-R2)"
   ]
  },
  {
   "cell_type": "code",
   "execution_count": 203,
   "metadata": {},
   "outputs": [
    {
     "name": "stdout",
     "output_type": "stream",
     "text": [
      "Result: ~ 77.0 % accuracy\n"
     ]
    }
   ],
   "source": [
    "print('Result: ~',np.round((1-np.mean(errs))*100), '% accuracy')"
   ]
  },
  {
   "cell_type": "markdown",
   "metadata": {},
   "source": [
    "maybe we should try a different number of components"
   ]
  },
  {
   "cell_type": "markdown",
   "metadata": {},
   "source": [
    "## Naive Bayes"
   ]
  },
  {
   "cell_type": "code",
   "execution_count": 204,
   "metadata": {},
   "outputs": [],
   "source": [
    "from sklearn.naive_bayes import GaussianNB\n",
    "from sklearn.metrics import accuracy_score,confusion_matrix"
   ]
  },
  {
   "cell_type": "code",
   "execution_count": 209,
   "metadata": {},
   "outputs": [
    {
     "name": "stdout",
     "output_type": "stream",
     "text": [
      "100 Splits: Mean Error=0.991151 +/- 0.009140 (95%)\n",
      "[[0 0 0 ... 0 0 0]\n",
      " [0 0 0 ... 0 0 0]\n",
      " [0 0 0 ... 0 0 0]\n",
      " ...\n",
      " [0 0 0 ... 0 0 0]\n",
      " [0 0 0 ... 0 0 0]\n",
      " [0 0 0 ... 0 0 0]]\n"
     ]
    }
   ],
   "source": [
    "gnb=GaussianNB()\n",
    "errs=[]\n",
    "nsplits = 100 #it takes a very long time with 100 splits\n",
    "for split in range(nsplits):\n",
    "    XTRAIN, XTEST, YTRAIN, YTEST=train_test_split(X,Y,test_size=.25)\n",
    "    gnb.fit(XTRAIN,YTRAIN)\n",
    "    YP=gnb.predict(XTEST)\n",
    "    errs.append(1-accuracy_score(YTEST,YP))\n",
    "print(\"%d Splits: Mean Error=%7.6f +/- %7.6f (95%%)\"\\\n",
    "      %(nsplits, np.mean(errs),1.96*np.std(errs)))\n",
    "print(confusion_matrix(YTEST,YP))"
   ]
  },
  {
   "cell_type": "markdown",
   "metadata": {},
   "source": [
    "## Random Forest"
   ]
  },
  {
   "cell_type": "code",
   "execution_count": 210,
   "metadata": {},
   "outputs": [],
   "source": [
    "from sklearn.ensemble import RandomForestClassifier"
   ]
  },
  {
   "cell_type": "code",
   "execution_count": 213,
   "metadata": {},
   "outputs": [
    {
     "name": "stdout",
     "output_type": "stream",
     "text": [
      "Error:  98.08219178082192 %\n"
     ]
    }
   ],
   "source": [
    "RF=RandomForestClassifier(n_estimators=500)\n",
    "XTRAIN, XTEST, YTRAIN, YTEST=train_test_split(Xcopy,Ycopy,test_size=.25)\n",
    "RF.fit(XTRAIN,YTRAIN)\n",
    "YP=RF.predict(XTEST)\n",
    "error=(1-accuracy_score(YTEST,YP))\n",
    "print('Error: ', error*100,'%')"
   ]
  },
  {
   "cell_type": "code",
   "execution_count": null,
   "metadata": {},
   "outputs": [],
   "source": []
  },
  {
   "cell_type": "code",
   "execution_count": null,
   "metadata": {},
   "outputs": [],
   "source": []
  },
  {
   "cell_type": "code",
   "execution_count": null,
   "metadata": {},
   "outputs": [],
   "source": []
  },
  {
   "cell_type": "markdown",
   "metadata": {},
   "source": [
    "## Logistic Regression"
   ]
  },
  {
   "cell_type": "code",
   "execution_count": 206,
   "metadata": {},
   "outputs": [
    {
     "data": {
      "text/plain": [
       "LogisticRegression(C=1.0, class_weight=None, dual=False, fit_intercept=True,\n",
       "          intercept_scaling=1, max_iter=100, multi_class='ovr', n_jobs=1,\n",
       "          penalty='l2', random_state=None, solver='lbfgs', tol=0.0001,\n",
       "          verbose=0, warm_start=False)"
      ]
     },
     "execution_count": 206,
     "metadata": {},
     "output_type": "execute_result"
    }
   ],
   "source": [
    "from sklearn.linear_model import LogisticRegression\n",
    "logisticRegr = LogisticRegression(solver = 'lbfgs')\n",
    "logisticRegr.fit(X,Y)"
   ]
  },
  {
   "cell_type": "code",
   "execution_count": 207,
   "metadata": {},
   "outputs": [
    {
     "data": {
      "text/plain": [
       "array([139000.])"
      ]
     },
     "execution_count": 207,
     "metadata": {},
     "output_type": "execute_result"
    }
   ],
   "source": [
    "logisticRegr.predict(Xt[0].reshape(1,-1))"
   ]
  },
  {
   "cell_type": "code",
   "execution_count": 208,
   "metadata": {},
   "outputs": [
    {
     "data": {
      "text/plain": [
       "array([139000., 139000., 176000., 250000., 147000., 178000., 175000.,\n",
       "       178000., 180000., 148000.])"
      ]
     },
     "execution_count": 208,
     "metadata": {},
     "output_type": "execute_result"
    }
   ],
   "source": [
    "logisticRegr.predict(Xt[0:10])"
   ]
  },
  {
   "cell_type": "code",
   "execution_count": null,
   "metadata": {},
   "outputs": [],
   "source": []
  }
 ],
 "metadata": {
  "kernelspec": {
   "display_name": "Python 3",
   "language": "python",
   "name": "python3"
  },
  "language_info": {
   "codemirror_mode": {
    "name": "ipython",
    "version": 3
   },
   "file_extension": ".py",
   "mimetype": "text/x-python",
   "name": "python",
   "nbconvert_exporter": "python",
   "pygments_lexer": "ipython3",
   "version": "3.6.5"
  }
 },
 "nbformat": 4,
 "nbformat_minor": 2
}
