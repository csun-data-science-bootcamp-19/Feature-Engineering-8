{
 "cells": [
  {
   "cell_type": "markdown",
   "metadata": {},
   "source": [
    "# Cleaning"
   ]
  },
  {
   "cell_type": "markdown",
   "metadata": {},
   "source": [
    "#### NA's (or NaNs) as value\n",
    "1. **Alley:** Type of alley access to property\n",
    "2. **BsmtQual:** Evaluates the height of the basement\n",
    "3. **BsmtCond:** Evaluates the general condition of the basement\n",
    "4. **BsmtExposure:** Refers to walkout or garden level walls\n",
    "5. **BsmtFinType1:** Rating of basement finished area\n",
    "6. **BsmtFinType2:** Rating of basement finished area (if multiple types)*\n",
    "7. **FireplaceQu:** Fireplace quality\n",
    "8. **GarageType:** Garage location\n",
    "9. **GarageFinish:** Interior finish of the garage\n",
    "10. **GarageQual:** Garage quality\n",
    "11. **GarageCond:** Garage condition\n",
    "12. **PoolQC:** Pool quality (Biggest of the above)\n",
    "13. **Fence:** Fence quality\n",
    "14. **MiscFeature:** Miscellaneous feature not covered in other categories\n",
    "\n",
    "##### The two below are listed as None in description, but NA in dataset\n",
    "* MasVnrArea: Masonry veneer type\n",
    "* MasVnrType: Masonry veneer area in square feet\n",
    "\n",
    "##### Others\n",
    "* LotFrontage: Maybe set to NA if there is no street connected to property?\n",
    "* GarageYrBlt: Set to NA if the above Garage attributes are set as NA\n",
    "\n",
    "* Electrical: Electrical system. There is only one property with a missing data in Electrical. At row 1381\n"
   ]
  },
  {
   "cell_type": "code",
   "execution_count": 2,
   "metadata": {},
   "outputs": [],
   "source": [
    "import pandas as pd\n",
    "import numpy as np\n",
    "import matplotlib.pyplot as plt\n",
    "from ds_utils import *\n",
    "import copy\n",
    "%matplotlib inline"
   ]
  },
  {
   "cell_type": "code",
   "execution_count": 3,
   "metadata": {},
   "outputs": [],
   "source": [
    "DFtrain = pd.read_csv('train.csv')\n",
    "Y = DFtrain['SalePrice']\n",
    "DFtest = pd.read_csv('test.csv')\n",
    "DFtrain = DFtrain.drop(['SalePrice'], axis=1)\n",
    "# DFtrain.shape, DFtest.shape"
   ]
  },
  {
   "cell_type": "code",
   "execution_count": 4,
   "metadata": {},
   "outputs": [
    {
     "data": {
      "text/plain": [
       "(2919, 78)"
      ]
     },
     "execution_count": 3,
     "metadata": {},
     "output_type": "execute_result"
    }
   ],
   "source": [
    "DFc = pd.concat([DFtrain, DFtest])\n",
    "del DFc['Id']\n",
    "del DFc['GarageYrBlt']\n",
    "DFc.shape"
   ]
  },
  {
   "cell_type": "code",
   "execution_count": 4,
   "metadata": {},
   "outputs": [],
   "source": [
    "def summary_missing_data(data, n):\n",
    "    total = data.isnull().sum().sort_values(ascending=False)\n",
    "    percent = (data.isnull().sum()/data.isnull().count()).sort_values(ascending=False)\n",
    "    missing_data = pd.concat([total, percent], axis=1, keys=['Total', 'Percent'])\n",
    "    return missing_data.head(n)"
   ]
  },
  {
   "cell_type": "code",
   "execution_count": 5,
   "metadata": {},
   "outputs": [
    {
     "name": "stdout",
     "output_type": "stream",
     "text": [
      "              Total   Percent\n",
      "PoolQC         2909  0.996574\n",
      "MiscFeature    2814  0.964029\n",
      "Alley          2721  0.932169\n",
      "Fence          2348  0.804385\n",
      "FireplaceQu    1420  0.486468\n",
      "LotFrontage     486  0.166495\n",
      "GarageCond      159  0.054471\n",
      "GarageQual      159  0.054471\n",
      "GarageFinish    159  0.054471\n",
      "GarageType      157  0.053786\n",
      "BsmtCond         82  0.028092\n",
      "BsmtExposure     82  0.028092\n",
      "BsmtQual         81  0.027749\n",
      "BsmtFinType2     80  0.027407\n",
      "BsmtFinType1     79  0.027064\n",
      "MasVnrType       24  0.008222\n",
      "MasVnrArea       23  0.007879\n",
      "MSZoning          4  0.001370\n",
      "BsmtHalfBath      2  0.000685\n",
      "Utilities         2  0.000685\n",
      "Functional        2  0.000685\n",
      "BsmtFullBath      2  0.000685\n",
      "BsmtFinSF1        1  0.000343\n",
      "BsmtFinSF2        1  0.000343\n",
      "Exterior2nd       1  0.000343\n",
      "BsmtUnfSF         1  0.000343\n",
      "TotalBsmtSF       1  0.000343\n",
      "SaleType          1  0.000343\n",
      "Exterior1st       1  0.000343\n",
      "Electrical        1  0.000343\n",
      "KitchenQual       1  0.000343\n",
      "GarageArea        1  0.000343\n",
      "GarageCars        1  0.000343\n",
      "OverallQual       0  0.000000\n"
     ]
    }
   ],
   "source": [
    "missing_data = summary_missing_data(DFc,34)\n",
    "print(missing_data)"
   ]
  },
  {
   "cell_type": "markdown",
   "metadata": {},
   "source": [
    "#### Getting rid of rows with few missinng data"
   ]
  },
  {
   "cell_type": "code",
   "execution_count": 6,
   "metadata": {},
   "outputs": [
    {
     "data": {
      "text/html": [
       "<div>\n",
       "<style scoped>\n",
       "    .dataframe tbody tr th:only-of-type {\n",
       "        vertical-align: middle;\n",
       "    }\n",
       "\n",
       "    .dataframe tbody tr th {\n",
       "        vertical-align: top;\n",
       "    }\n",
       "\n",
       "    .dataframe thead th {\n",
       "        text-align: right;\n",
       "    }\n",
       "</style>\n",
       "<table border=\"1\" class=\"dataframe\">\n",
       "  <thead>\n",
       "    <tr style=\"text-align: right;\">\n",
       "      <th></th>\n",
       "      <th>Total</th>\n",
       "      <th>Percent</th>\n",
       "    </tr>\n",
       "  </thead>\n",
       "  <tbody>\n",
       "    <tr>\n",
       "      <th>PoolQC</th>\n",
       "      <td>2835</td>\n",
       "      <td>0.996485</td>\n",
       "    </tr>\n",
       "    <tr>\n",
       "      <th>MiscFeature</th>\n",
       "      <td>2742</td>\n",
       "      <td>0.963796</td>\n",
       "    </tr>\n",
       "    <tr>\n",
       "      <th>Alley</th>\n",
       "      <td>2651</td>\n",
       "      <td>0.931810</td>\n",
       "    </tr>\n",
       "    <tr>\n",
       "      <th>Fence</th>\n",
       "      <td>2280</td>\n",
       "      <td>0.801406</td>\n",
       "    </tr>\n",
       "    <tr>\n",
       "      <th>FireplaceQu</th>\n",
       "      <td>1387</td>\n",
       "      <td>0.487522</td>\n",
       "    </tr>\n",
       "    <tr>\n",
       "      <th>LotFrontage</th>\n",
       "      <td>466</td>\n",
       "      <td>0.163796</td>\n",
       "    </tr>\n",
       "    <tr>\n",
       "      <th>GarageFinish</th>\n",
       "      <td>156</td>\n",
       "      <td>0.054833</td>\n",
       "    </tr>\n",
       "    <tr>\n",
       "      <th>GarageCond</th>\n",
       "      <td>156</td>\n",
       "      <td>0.054833</td>\n",
       "    </tr>\n",
       "    <tr>\n",
       "      <th>GarageQual</th>\n",
       "      <td>156</td>\n",
       "      <td>0.054833</td>\n",
       "    </tr>\n",
       "    <tr>\n",
       "      <th>GarageType</th>\n",
       "      <td>155</td>\n",
       "      <td>0.054482</td>\n",
       "    </tr>\n",
       "    <tr>\n",
       "      <th>BsmtExposure</th>\n",
       "      <td>76</td>\n",
       "      <td>0.026714</td>\n",
       "    </tr>\n",
       "    <tr>\n",
       "      <th>BsmtCond</th>\n",
       "      <td>76</td>\n",
       "      <td>0.026714</td>\n",
       "    </tr>\n",
       "    <tr>\n",
       "      <th>BsmtQual</th>\n",
       "      <td>75</td>\n",
       "      <td>0.026362</td>\n",
       "    </tr>\n",
       "    <tr>\n",
       "      <th>BsmtFinType2</th>\n",
       "      <td>74</td>\n",
       "      <td>0.026011</td>\n",
       "    </tr>\n",
       "    <tr>\n",
       "      <th>BsmtFinType1</th>\n",
       "      <td>73</td>\n",
       "      <td>0.025659</td>\n",
       "    </tr>\n",
       "    <tr>\n",
       "      <th>RoofStyle</th>\n",
       "      <td>0</td>\n",
       "      <td>0.000000</td>\n",
       "    </tr>\n",
       "    <tr>\n",
       "      <th>RoofMatl</th>\n",
       "      <td>0</td>\n",
       "      <td>0.000000</td>\n",
       "    </tr>\n",
       "  </tbody>\n",
       "</table>\n",
       "</div>"
      ],
      "text/plain": [
       "              Total   Percent\n",
       "PoolQC         2835  0.996485\n",
       "MiscFeature    2742  0.963796\n",
       "Alley          2651  0.931810\n",
       "Fence          2280  0.801406\n",
       "FireplaceQu    1387  0.487522\n",
       "LotFrontage     466  0.163796\n",
       "GarageFinish    156  0.054833\n",
       "GarageCond      156  0.054833\n",
       "GarageQual      156  0.054833\n",
       "GarageType      155  0.054482\n",
       "BsmtExposure     76  0.026714\n",
       "BsmtCond         76  0.026714\n",
       "BsmtQual         75  0.026362\n",
       "BsmtFinType2     74  0.026011\n",
       "BsmtFinType1     73  0.025659\n",
       "RoofStyle         0  0.000000\n",
       "RoofMatl          0  0.000000"
      ]
     },
     "execution_count": 6,
     "metadata": {},
     "output_type": "execute_result"
    }
   ],
   "source": [
    "for value in ((missing_data[missing_data['Total'] < 50]).index):\n",
    "    DFc = DFc.drop(DFc.loc[DFc[value].isnull()].index)\n",
    "summary_missing_data(DFc,17)"
   ]
  },
  {
   "cell_type": "code",
   "execution_count": 7,
   "metadata": {},
   "outputs": [
    {
     "data": {
      "text/plain": [
       "(2845, 78)"
      ]
     },
     "execution_count": 7,
     "metadata": {},
     "output_type": "execute_result"
    }
   ],
   "source": [
    "DFc.shape"
   ]
  },
  {
   "cell_type": "markdown",
   "metadata": {},
   "source": [
    "#### Filled missing values in LotFrontage with the mode"
   ]
  },
  {
   "cell_type": "code",
   "execution_count": 8,
   "metadata": {},
   "outputs": [],
   "source": [
    "LotFrontage = DFc['LotFrontage']\n",
    "mode = DFc['LotFrontage'].mode() # Mode is 60\n",
    "mode = float(mode)\n",
    "DFc['LotFrontage'].fillna(mode, inplace=True)"
   ]
  },
  {
   "cell_type": "markdown",
   "metadata": {},
   "source": [
    "#### Filled the remaining missing values with \"None\"\n",
    "The remaining ones just have None listed as NA in the data description"
   ]
  },
  {
   "cell_type": "code",
   "execution_count": 9,
   "metadata": {},
   "outputs": [
    {
     "data": {
      "text/html": [
       "<div>\n",
       "<style scoped>\n",
       "    .dataframe tbody tr th:only-of-type {\n",
       "        vertical-align: middle;\n",
       "    }\n",
       "\n",
       "    .dataframe tbody tr th {\n",
       "        vertical-align: top;\n",
       "    }\n",
       "\n",
       "    .dataframe thead th {\n",
       "        text-align: right;\n",
       "    }\n",
       "</style>\n",
       "<table border=\"1\" class=\"dataframe\">\n",
       "  <thead>\n",
       "    <tr style=\"text-align: right;\">\n",
       "      <th></th>\n",
       "      <th>Total</th>\n",
       "      <th>Percent</th>\n",
       "    </tr>\n",
       "  </thead>\n",
       "  <tbody>\n",
       "    <tr>\n",
       "      <th>SaleCondition</th>\n",
       "      <td>0</td>\n",
       "      <td>0.0</td>\n",
       "    </tr>\n",
       "    <tr>\n",
       "      <th>Foundation</th>\n",
       "      <td>0</td>\n",
       "      <td>0.0</td>\n",
       "    </tr>\n",
       "    <tr>\n",
       "      <th>RoofMatl</th>\n",
       "      <td>0</td>\n",
       "      <td>0.0</td>\n",
       "    </tr>\n",
       "    <tr>\n",
       "      <th>Exterior1st</th>\n",
       "      <td>0</td>\n",
       "      <td>0.0</td>\n",
       "    </tr>\n",
       "    <tr>\n",
       "      <th>Exterior2nd</th>\n",
       "      <td>0</td>\n",
       "      <td>0.0</td>\n",
       "    </tr>\n",
       "  </tbody>\n",
       "</table>\n",
       "</div>"
      ],
      "text/plain": [
       "               Total  Percent\n",
       "SaleCondition      0      0.0\n",
       "Foundation         0      0.0\n",
       "RoofMatl           0      0.0\n",
       "Exterior1st        0      0.0\n",
       "Exterior2nd        0      0.0"
      ]
     },
     "execution_count": 9,
     "metadata": {},
     "output_type": "execute_result"
    }
   ],
   "source": [
    "DFc.fillna(\"None\",inplace=True)\n",
    "summary_missing_data(DFc,5)"
   ]
  },
  {
   "cell_type": "code",
   "execution_count": null,
   "metadata": {},
   "outputs": [],
   "source": []
  },
  {
   "cell_type": "code",
   "execution_count": null,
   "metadata": {},
   "outputs": [],
   "source": []
  },
  {
   "cell_type": "code",
   "execution_count": null,
   "metadata": {},
   "outputs": [],
   "source": []
  },
  {
   "cell_type": "code",
   "execution_count": null,
   "metadata": {},
   "outputs": [],
   "source": []
  },
  {
   "cell_type": "code",
   "execution_count": null,
   "metadata": {},
   "outputs": [],
   "source": []
  },
  {
   "cell_type": "code",
   "execution_count": null,
   "metadata": {},
   "outputs": [],
   "source": []
  },
  {
   "cell_type": "code",
   "execution_count": null,
   "metadata": {},
   "outputs": [],
   "source": []
  },
  {
   "cell_type": "code",
   "execution_count": null,
   "metadata": {},
   "outputs": [],
   "source": []
  },
  {
   "cell_type": "code",
   "execution_count": null,
   "metadata": {},
   "outputs": [],
   "source": []
  },
  {
   "cell_type": "code",
   "execution_count": null,
   "metadata": {},
   "outputs": [],
   "source": []
  },
  {
   "cell_type": "markdown",
   "metadata": {},
   "source": [
    "### Get Dummies"
   ]
  },
  {
<<<<<<< HEAD
   "cell_type": "code",
   "execution_count": 15,
   "metadata": {},
   "outputs": [],
   "source": [
    "atts=pd.read_csv('attributes.csv')"
   ]
  },
  {
   "cell_type": "code",
   "execution_count": 33,
   "metadata": {},
   "outputs": [
    {
     "ename": "TypeError",
     "evalue": "string indices must be integers",
     "output_type": "error",
     "traceback": [
      "\u001b[1;31m---------------------------------------------------------------------------\u001b[0m",
      "\u001b[1;31mTypeError\u001b[0m                                 Traceback (most recent call last)",
      "\u001b[1;32m<ipython-input-33-f390ca79c189>\u001b[0m in \u001b[0;36m<module>\u001b[1;34m()\u001b[0m\n\u001b[0;32m      1\u001b[0m \u001b[1;32mfor\u001b[0m \u001b[0mi\u001b[0m \u001b[1;32min\u001b[0m \u001b[0matts\u001b[0m\u001b[1;33m:\u001b[0m\u001b[1;33m\u001b[0m\u001b[0m\n\u001b[1;32m----> 2\u001b[1;33m     \u001b[1;32mif\u001b[0m \u001b[0mi\u001b[0m\u001b[1;33m[\u001b[0m\u001b[1;34m'Type'\u001b[0m\u001b[1;33m]\u001b[0m\u001b[1;33m.\u001b[0m\u001b[0mvalue\u001b[0m \u001b[1;33m==\u001b[0m \u001b[1;34m'Continuous'\u001b[0m \u001b[1;32mand\u001b[0m \u001b[0mi\u001b[0m\u001b[1;33m[\u001b[0m\u001b[1;34m'Attribute'\u001b[0m\u001b[1;33m]\u001b[0m\u001b[1;33m.\u001b[0m\u001b[0mvalue\u001b[0m \u001b[1;33m!=\u001b[0m \u001b[1;34m'Id'\u001b[0m\u001b[1;33m:\u001b[0m\u001b[1;33m\u001b[0m\u001b[0m\n\u001b[0m\u001b[0;32m      3\u001b[0m         \u001b[0mDF\u001b[0m\u001b[1;33m=\u001b[0m\u001b[0mpd\u001b[0m\u001b[1;33m.\u001b[0m\u001b[0mget_dummies\u001b[0m\u001b[1;33m(\u001b[0m\u001b[0mDF\u001b[0m\u001b[1;33m[\u001b[0m\u001b[0mi\u001b[0m\u001b[1;33m[\u001b[0m\u001b[1;34m'Attribute'\u001b[0m\u001b[1;33m]\u001b[0m\u001b[1;33m]\u001b[0m\u001b[1;33m,\u001b[0m \u001b[0mdummy_na\u001b[0m\u001b[1;33m=\u001b[0m\u001b[1;32mTrue\u001b[0m\u001b[1;33m)\u001b[0m\u001b[1;33m\u001b[0m\u001b[0m\n",
      "\u001b[1;31mTypeError\u001b[0m: string indices must be integers"
     ]
    }
   ],
   "source": [
    "for i in atts:\n",
    "    if i['Type'].value == 'Continuous' and i['Attribute'].value != 'Id':\n",
    "        DF=pd.get_dummies(DF[i['Attribute']], dummy_na=True)"
   ]
  },
  {
   "cell_type": "code",
   "execution_count": 6,
=======
   "cell_type": "markdown",
>>>>>>> Kasriel-patch-1
   "metadata": {
    "scrolled": true
   },
   "source": [
    "DFdum = pd.get_dummies(DFc, dummy_na=True)\n",
    "DFdum.shape"
   ]
  },
  {
   "cell_type": "markdown",
   "metadata": {},
   "source": [
    "# Modeling"
   ]
  },
  {
   "cell_type": "markdown",
   "metadata": {},
   "source": [
    "Was going to get ready for PCA stuff below"
   ]
  },
  {
   "cell_type": "code",
   "execution_count": 11,
   "metadata": {},
   "outputs": [],
   "source": [
    "from sklearn.preprocessing import StandardScaler"
   ]
  },
  {
   "cell_type": "markdown",
   "metadata": {},
   "source": [
    "y = DF.loc[:,['SalePrice']].values\n",
    "DF = DF.drop(['SalePrice'], axis=1)\n",
    "y\n",
    "\n",
    "X = datatrain.drop(columns=['SalePrice', 'Id'])\n",
    "Y = datatrain['SalePrice']\n",
    "Xt = datatest.drop(columns=['Id'])\n",
    "\n",
    "scaler = StandardScaler()\n",
    "X_scaled = scaler.fit_transform(X)\n",
    "Xt_scaled = scaler.fit_transform(Xt)\n",
    "\n"
   ]
  }
 ],
 "metadata": {
  "kernelspec": {
   "display_name": "Python 3",
   "language": "python",
   "name": "python3"
  },
  "language_info": {
   "codemirror_mode": {
    "name": "ipython",
    "version": 3
   },
   "file_extension": ".py",
   "mimetype": "text/x-python",
   "name": "python",
   "nbconvert_exporter": "python",
   "pygments_lexer": "ipython3",
   "version": "3.6.5"
  }
 },
 "nbformat": 4,
 "nbformat_minor": 2
}
